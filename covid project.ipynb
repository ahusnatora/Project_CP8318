{
 "cells": [
  {
   "cell_type": "markdown",
   "metadata": {},
   "source": [
    " # Library declaration "
   ]
  },
  {
   "cell_type": "code",
   "execution_count": 497,
   "metadata": {},
   "outputs": [],
   "source": [
    "import pandas as pd\n",
    "import numpy as np\n",
    "from math import sqrt\n",
    "from numpy import concatenate\n",
    "from matplotlib import pyplot\n",
    "from pandas import read_csv\n",
    "from pandas import DataFrame\n",
    "from pandas import concat\n",
    "from sklearn.preprocessing import MinMaxScaler\n",
    "from sklearn.preprocessing import LabelEncoder\n",
    "from sklearn.metrics import mean_squared_error\n",
    "from keras.models import Sequential\n",
    "from keras.layers import Dense\n",
    "from keras.layers import LSTM, GRU\n",
    "import tensorflow as tf\n",
    "from datetime import datetime\n",
    "from time import process_time \n",
    "from sklearn.model_selection import train_test_split"
   ]
  },
  {
   "cell_type": "markdown",
   "metadata": {},
   "source": [
    "# Data Load"
   ]
  },
  {
   "cell_type": "code",
   "execution_count": 498,
   "metadata": {},
   "outputs": [
    {
     "data": {
      "text/plain": [
       "Index(['province', 'health_region', 'date_report', 'cases',\n",
       "       'cumulative_cases'],\n",
       "      dtype='object')"
      ]
     },
     "execution_count": 498,
     "metadata": {},
     "output_type": "execute_result"
    }
   ],
   "source": [
    "# load all data\n",
    "df = pd.read_csv('./cases_timeseries_hr.csv', sep=',', header=0, low_memory=False  )\n",
    "df.columns"
   ]
  },
  {
   "cell_type": "code",
   "execution_count": 499,
   "metadata": {},
   "outputs": [],
   "source": [
    " df['day']=df['date_report'].str.slice(0, 2)"
   ]
  },
  {
   "cell_type": "code",
   "execution_count": 500,
   "metadata": {},
   "outputs": [],
   "source": [
    "  df['month'] = df['date_report'].str.slice(3, 5)"
   ]
  },
  {
   "cell_type": "code",
   "execution_count": 501,
   "metadata": {},
   "outputs": [],
   "source": [
    "  df['year']=df['date_report'].str.slice(6, 10)"
   ]
  },
  {
   "cell_type": "code",
   "execution_count": 502,
   "metadata": {},
   "outputs": [],
   "source": [
    " df['case_date']= df['year']+'-'+df['month']+'-'+df['day']"
   ]
  },
  {
   "cell_type": "code",
   "execution_count": 503,
   "metadata": {},
   "outputs": [
    {
     "name": "stdout",
     "output_type": "stream",
     "text": [
      "<class 'pandas.core.frame.DataFrame'>\n",
      "RangeIndex: 32946 entries, 0 to 32945\n",
      "Data columns (total 9 columns):\n",
      " #   Column            Non-Null Count  Dtype \n",
      "---  ------            --------------  ----- \n",
      " 0   province          32946 non-null  object\n",
      " 1   health_region     32946 non-null  object\n",
      " 2   date_report       32946 non-null  object\n",
      " 3   cases             32946 non-null  int64 \n",
      " 4   cumulative_cases  32946 non-null  int64 \n",
      " 5   day               32946 non-null  object\n",
      " 6   month             32946 non-null  object\n",
      " 7   year              32946 non-null  object\n",
      " 8   case_date         32946 non-null  object\n",
      "dtypes: int64(2), object(7)\n",
      "memory usage: 2.3+ MB\n"
     ]
    }
   ],
   "source": [
    "df.info()"
   ]
  },
  {
   "cell_type": "markdown",
   "metadata": {},
   "source": [
    "# Data Preprocessing"
   ]
  },
  {
   "cell_type": "code",
   "execution_count": 504,
   "metadata": {},
   "outputs": [],
   "source": [
    "# df['date_report']= pd.to_datetime(df['date_report'],  format='%d%m%Y', errors='ignore') "
   ]
  },
  {
   "cell_type": "code",
   "execution_count": 505,
   "metadata": {},
   "outputs": [
    {
     "name": "stdout",
     "output_type": "stream",
     "text": [
      "<class 'pandas.core.frame.DataFrame'>\n",
      "RangeIndex: 32946 entries, 0 to 32945\n",
      "Data columns (total 9 columns):\n",
      " #   Column            Non-Null Count  Dtype \n",
      "---  ------            --------------  ----- \n",
      " 0   province          32946 non-null  object\n",
      " 1   health_region     32946 non-null  object\n",
      " 2   date_report       32946 non-null  object\n",
      " 3   cases             32946 non-null  int64 \n",
      " 4   cumulative_cases  32946 non-null  int64 \n",
      " 5   day               32946 non-null  object\n",
      " 6   month             32946 non-null  object\n",
      " 7   year              32946 non-null  object\n",
      " 8   case_date         32946 non-null  object\n",
      "dtypes: int64(2), object(7)\n",
      "memory usage: 2.3+ MB\n"
     ]
    }
   ],
   "source": [
    "df.info()"
   ]
  },
  {
   "cell_type": "code",
   "execution_count": 506,
   "metadata": {},
   "outputs": [
    {
     "data": {
      "text/plain": [
       "32946"
      ]
     },
     "execution_count": 506,
     "metadata": {},
     "output_type": "execute_result"
    }
   ],
   "source": [
    "len(df)"
   ]
  },
  {
   "cell_type": "code",
   "execution_count": 507,
   "metadata": {},
   "outputs": [
    {
     "data": {
      "text/html": [
       "<div>\n",
       "<style scoped>\n",
       "    .dataframe tbody tr th:only-of-type {\n",
       "        vertical-align: middle;\n",
       "    }\n",
       "\n",
       "    .dataframe tbody tr th {\n",
       "        vertical-align: top;\n",
       "    }\n",
       "\n",
       "    .dataframe thead th {\n",
       "        text-align: right;\n",
       "    }\n",
       "</style>\n",
       "<table border=\"1\" class=\"dataframe\">\n",
       "  <thead>\n",
       "    <tr style=\"text-align: right;\">\n",
       "      <th></th>\n",
       "      <th>province</th>\n",
       "      <th>health_region</th>\n",
       "      <th>date_report</th>\n",
       "      <th>cases</th>\n",
       "      <th>cumulative_cases</th>\n",
       "      <th>day</th>\n",
       "      <th>month</th>\n",
       "      <th>year</th>\n",
       "      <th>case_date</th>\n",
       "    </tr>\n",
       "  </thead>\n",
       "  <tbody>\n",
       "    <tr>\n",
       "      <th>0</th>\n",
       "      <td>Alberta</td>\n",
       "      <td>Calgary</td>\n",
       "      <td>25-01-2020</td>\n",
       "      <td>0</td>\n",
       "      <td>0</td>\n",
       "      <td>25</td>\n",
       "      <td>01</td>\n",
       "      <td>2020</td>\n",
       "      <td>2020-01-25</td>\n",
       "    </tr>\n",
       "    <tr>\n",
       "      <th>1</th>\n",
       "      <td>Alberta</td>\n",
       "      <td>Calgary</td>\n",
       "      <td>26-01-2020</td>\n",
       "      <td>0</td>\n",
       "      <td>0</td>\n",
       "      <td>26</td>\n",
       "      <td>01</td>\n",
       "      <td>2020</td>\n",
       "      <td>2020-01-26</td>\n",
       "    </tr>\n",
       "    <tr>\n",
       "      <th>2</th>\n",
       "      <td>Alberta</td>\n",
       "      <td>Calgary</td>\n",
       "      <td>27-01-2020</td>\n",
       "      <td>0</td>\n",
       "      <td>0</td>\n",
       "      <td>27</td>\n",
       "      <td>01</td>\n",
       "      <td>2020</td>\n",
       "      <td>2020-01-27</td>\n",
       "    </tr>\n",
       "    <tr>\n",
       "      <th>3</th>\n",
       "      <td>Alberta</td>\n",
       "      <td>Calgary</td>\n",
       "      <td>28-01-2020</td>\n",
       "      <td>0</td>\n",
       "      <td>0</td>\n",
       "      <td>28</td>\n",
       "      <td>01</td>\n",
       "      <td>2020</td>\n",
       "      <td>2020-01-28</td>\n",
       "    </tr>\n",
       "    <tr>\n",
       "      <th>4</th>\n",
       "      <td>Alberta</td>\n",
       "      <td>Calgary</td>\n",
       "      <td>29-01-2020</td>\n",
       "      <td>0</td>\n",
       "      <td>0</td>\n",
       "      <td>29</td>\n",
       "      <td>01</td>\n",
       "      <td>2020</td>\n",
       "      <td>2020-01-29</td>\n",
       "    </tr>\n",
       "    <tr>\n",
       "      <th>...</th>\n",
       "      <td>...</td>\n",
       "      <td>...</td>\n",
       "      <td>...</td>\n",
       "      <td>...</td>\n",
       "      <td>...</td>\n",
       "      <td>...</td>\n",
       "      <td>...</td>\n",
       "      <td>...</td>\n",
       "      <td>...</td>\n",
       "    </tr>\n",
       "    <tr>\n",
       "      <th>32941</th>\n",
       "      <td>Yukon</td>\n",
       "      <td>Yukon</td>\n",
       "      <td>08-12-2020</td>\n",
       "      <td>1</td>\n",
       "      <td>58</td>\n",
       "      <td>08</td>\n",
       "      <td>12</td>\n",
       "      <td>2020</td>\n",
       "      <td>2020-12-08</td>\n",
       "    </tr>\n",
       "    <tr>\n",
       "      <th>32942</th>\n",
       "      <td>Yukon</td>\n",
       "      <td>Yukon</td>\n",
       "      <td>09-12-2020</td>\n",
       "      <td>0</td>\n",
       "      <td>58</td>\n",
       "      <td>09</td>\n",
       "      <td>12</td>\n",
       "      <td>2020</td>\n",
       "      <td>2020-12-09</td>\n",
       "    </tr>\n",
       "    <tr>\n",
       "      <th>32943</th>\n",
       "      <td>Yukon</td>\n",
       "      <td>Yukon</td>\n",
       "      <td>10-12-2020</td>\n",
       "      <td>0</td>\n",
       "      <td>58</td>\n",
       "      <td>10</td>\n",
       "      <td>12</td>\n",
       "      <td>2020</td>\n",
       "      <td>2020-12-10</td>\n",
       "    </tr>\n",
       "    <tr>\n",
       "      <th>32944</th>\n",
       "      <td>Yukon</td>\n",
       "      <td>Yukon</td>\n",
       "      <td>11-12-2020</td>\n",
       "      <td>0</td>\n",
       "      <td>58</td>\n",
       "      <td>11</td>\n",
       "      <td>12</td>\n",
       "      <td>2020</td>\n",
       "      <td>2020-12-11</td>\n",
       "    </tr>\n",
       "    <tr>\n",
       "      <th>32945</th>\n",
       "      <td>Yukon</td>\n",
       "      <td>Yukon</td>\n",
       "      <td>12-12-2020</td>\n",
       "      <td>0</td>\n",
       "      <td>58</td>\n",
       "      <td>12</td>\n",
       "      <td>12</td>\n",
       "      <td>2020</td>\n",
       "      <td>2020-12-12</td>\n",
       "    </tr>\n",
       "  </tbody>\n",
       "</table>\n",
       "<p>32946 rows × 9 columns</p>\n",
       "</div>"
      ],
      "text/plain": [
       "      province health_region date_report  cases  cumulative_cases day month  \\\n",
       "0      Alberta       Calgary  25-01-2020      0                 0  25    01   \n",
       "1      Alberta       Calgary  26-01-2020      0                 0  26    01   \n",
       "2      Alberta       Calgary  27-01-2020      0                 0  27    01   \n",
       "3      Alberta       Calgary  28-01-2020      0                 0  28    01   \n",
       "4      Alberta       Calgary  29-01-2020      0                 0  29    01   \n",
       "...        ...           ...         ...    ...               ...  ..   ...   \n",
       "32941    Yukon         Yukon  08-12-2020      1                58  08    12   \n",
       "32942    Yukon         Yukon  09-12-2020      0                58  09    12   \n",
       "32943    Yukon         Yukon  10-12-2020      0                58  10    12   \n",
       "32944    Yukon         Yukon  11-12-2020      0                58  11    12   \n",
       "32945    Yukon         Yukon  12-12-2020      0                58  12    12   \n",
       "\n",
       "       year   case_date  \n",
       "0      2020  2020-01-25  \n",
       "1      2020  2020-01-26  \n",
       "2      2020  2020-01-27  \n",
       "3      2020  2020-01-28  \n",
       "4      2020  2020-01-29  \n",
       "...     ...         ...  \n",
       "32941  2020  2020-12-08  \n",
       "32942  2020  2020-12-09  \n",
       "32943  2020  2020-12-10  \n",
       "32944  2020  2020-12-11  \n",
       "32945  2020  2020-12-12  \n",
       "\n",
       "[32946 rows x 9 columns]"
      ]
     },
     "execution_count": 507,
     "metadata": {},
     "output_type": "execute_result"
    }
   ],
   "source": [
    "df"
   ]
  },
  {
   "cell_type": "code",
   "execution_count": 508,
   "metadata": {},
   "outputs": [],
   "source": [
    "df = df.set_index('case_date')"
   ]
  },
  {
   "cell_type": "code",
   "execution_count": 509,
   "metadata": {},
   "outputs": [
    {
     "data": {
      "text/plain": [
       "Ontario          11305\n",
       "Quebec            6137\n",
       "New Brunswick     2584\n",
       "Saskatchewan      2261\n",
       "Manitoba          1938\n",
       "BC                1938\n",
       "Alberta           1938\n",
       "NL                1615\n",
       "Nova Scotia       1615\n",
       "Nunavut            323\n",
       "Yukon              323\n",
       "NWT                323\n",
       "Repatriated        323\n",
       "PEI                323\n",
       "Name: province, dtype: int64"
      ]
     },
     "execution_count": 509,
     "metadata": {},
     "output_type": "execute_result"
    }
   ],
   "source": [
    "df['province'].value_counts()"
   ]
  },
  {
   "cell_type": "code",
   "execution_count": 510,
   "metadata": {},
   "outputs": [],
   "source": [
    "df = df.query('province ==\"Ontario\"')"
   ]
  },
  {
   "cell_type": "code",
   "execution_count": 511,
   "metadata": {},
   "outputs": [],
   "source": [
    "# df"
   ]
  },
  {
   "cell_type": "code",
   "execution_count": 512,
   "metadata": {},
   "outputs": [],
   "source": [
    "df_for_cls=df[['cases' ]]"
   ]
  },
  {
   "cell_type": "code",
   "execution_count": null,
   "metadata": {},
   "outputs": [],
   "source": [
    " "
   ]
  },
  {
   "cell_type": "code",
   "execution_count": 513,
   "metadata": {},
   "outputs": [],
   "source": [
    "# df_for_cls.query('date_report==\"03-12-2020\"')"
   ]
  },
  {
   "cell_type": "code",
   "execution_count": 514,
   "metadata": {},
   "outputs": [],
   "source": [
    "df_for_cls= df_for_cls.groupby(['case_date'])['cases'].sum().reset_index()\n"
   ]
  },
  {
   "cell_type": "code",
   "execution_count": 515,
   "metadata": {},
   "outputs": [],
   "source": [
    "# df_for_cls['date_report']= pd.to_datetime(df_for_cls['date_report'],  format='%d%m%Y', errors='ignore') "
   ]
  },
  {
   "cell_type": "code",
   "execution_count": 516,
   "metadata": {},
   "outputs": [],
   "source": [
    "df_for_cls = df_for_cls.set_index('case_date')\n",
    " "
   ]
  },
  {
   "cell_type": "code",
   "execution_count": 517,
   "metadata": {},
   "outputs": [
    {
     "name": "stdout",
     "output_type": "stream",
     "text": [
      "<class 'pandas.core.frame.DataFrame'>\n",
      "Index: 323 entries, 2020-01-25 to 2020-12-12\n",
      "Data columns (total 1 columns):\n",
      " #   Column  Non-Null Count  Dtype\n",
      "---  ------  --------------  -----\n",
      " 0   cases   323 non-null    int64\n",
      "dtypes: int64(1)\n",
      "memory usage: 5.0+ KB\n"
     ]
    }
   ],
   "source": [
    "df_for_cls.info()"
   ]
  },
  {
   "cell_type": "markdown",
   "metadata": {},
   "source": [
    "# feature engineering"
   ]
  },
  {
   "cell_type": "code",
   "execution_count": 518,
   "metadata": {},
   "outputs": [],
   "source": [
    "df_for_cls=df_for_cls[['cases' ]]"
   ]
  },
  {
   "cell_type": "code",
   "execution_count": 519,
   "metadata": {},
   "outputs": [],
   "source": [
    "# df_for_cls"
   ]
  },
  {
   "cell_type": "code",
   "execution_count": 520,
   "metadata": {},
   "outputs": [],
   "source": [
    "def create_dataset(dataset):\n",
    "    dataX,dataY=[],[]\n",
    "    time_step =7\n",
    "    for i in range(len(dataset)-time_step):\n",
    "#         print(i)\n",
    "        data=[] \n",
    "#         data=  [1 if dataset['Hours'][i]==k else 0  for k in range(0,24)]  # One-Hot Encoding\n",
    " \n",
    " \n",
    "        load= dataset['cases'][i:(i+time_step)]\n",
    "        data.extend(list(load))\n",
    "        \n",
    "        data.append( dataset['cases'][(i+time_step)])\n",
    "        label =  dataset['cases'][(i+time_step)] \n",
    "#         print(label)\n",
    "\n",
    "        dataX.append(data)\n",
    " \n",
    "    dX = pd.DataFrame(dataX, columns = [  'load0', 'load1', 'load2', 'load3', 'load4', 'load5', 'load6','label_value'])\n",
    "#     dY = pd.DataFrame(dataY,  columns = ['label'])\n",
    "     \n",
    "    return dX #, dY\n",
    "\n",
    "\n",
    " \n",
    "#     return numpy.array(dataX),numpy.array(dataY)"
   ]
  },
  {
   "cell_type": "code",
   "execution_count": 521,
   "metadata": {},
   "outputs": [],
   "source": [
    "data_X  = create_dataset(df_for_cls)"
   ]
  },
  {
   "cell_type": "code",
   "execution_count": 522,
   "metadata": {},
   "outputs": [],
   "source": [
    "# data_X"
   ]
  },
  {
   "cell_type": "code",
   "execution_count": 523,
   "metadata": {},
   "outputs": [],
   "source": [
    "data_X.to_csv('data/data_X_Without_over_sampling1.csv', index = False) "
   ]
  },
  {
   "cell_type": "code",
   "execution_count": 524,
   "metadata": {},
   "outputs": [],
   "source": [
    "data = data_X"
   ]
  },
  {
   "cell_type": "code",
   "execution_count": 525,
   "metadata": {},
   "outputs": [],
   "source": [
    "# # normalizing input features\n",
    "# scaler = MinMaxScaler(feature_range=(0, 1))\n",
    "# data = scaler.fit_transform(data)\n",
    "# data =pd.DataFrame(data)"
   ]
  },
  {
   "cell_type": "code",
   "execution_count": 526,
   "metadata": {},
   "outputs": [],
   "source": [
    "X = data.iloc[:,0:7] \n",
    "Y = data.iloc[:,7:8]"
   ]
  },
  {
   "cell_type": "code",
   "execution_count": 527,
   "metadata": {},
   "outputs": [
    {
     "data": {
      "text/html": [
       "<div>\n",
       "<style scoped>\n",
       "    .dataframe tbody tr th:only-of-type {\n",
       "        vertical-align: middle;\n",
       "    }\n",
       "\n",
       "    .dataframe tbody tr th {\n",
       "        vertical-align: top;\n",
       "    }\n",
       "\n",
       "    .dataframe thead th {\n",
       "        text-align: right;\n",
       "    }\n",
       "</style>\n",
       "<table border=\"1\" class=\"dataframe\">\n",
       "  <thead>\n",
       "    <tr style=\"text-align: right;\">\n",
       "      <th></th>\n",
       "      <th>load0</th>\n",
       "      <th>load1</th>\n",
       "      <th>load2</th>\n",
       "      <th>load3</th>\n",
       "      <th>load4</th>\n",
       "      <th>load5</th>\n",
       "      <th>load6</th>\n",
       "    </tr>\n",
       "  </thead>\n",
       "  <tbody>\n",
       "    <tr>\n",
       "      <th>0</th>\n",
       "      <td>1</td>\n",
       "      <td>0</td>\n",
       "      <td>1</td>\n",
       "      <td>0</td>\n",
       "      <td>0</td>\n",
       "      <td>0</td>\n",
       "      <td>1</td>\n",
       "    </tr>\n",
       "    <tr>\n",
       "      <th>1</th>\n",
       "      <td>0</td>\n",
       "      <td>1</td>\n",
       "      <td>0</td>\n",
       "      <td>0</td>\n",
       "      <td>0</td>\n",
       "      <td>1</td>\n",
       "      <td>0</td>\n",
       "    </tr>\n",
       "    <tr>\n",
       "      <th>2</th>\n",
       "      <td>1</td>\n",
       "      <td>0</td>\n",
       "      <td>0</td>\n",
       "      <td>0</td>\n",
       "      <td>1</td>\n",
       "      <td>0</td>\n",
       "      <td>0</td>\n",
       "    </tr>\n",
       "    <tr>\n",
       "      <th>3</th>\n",
       "      <td>0</td>\n",
       "      <td>0</td>\n",
       "      <td>0</td>\n",
       "      <td>1</td>\n",
       "      <td>0</td>\n",
       "      <td>0</td>\n",
       "      <td>0</td>\n",
       "    </tr>\n",
       "    <tr>\n",
       "      <th>4</th>\n",
       "      <td>0</td>\n",
       "      <td>0</td>\n",
       "      <td>1</td>\n",
       "      <td>0</td>\n",
       "      <td>0</td>\n",
       "      <td>0</td>\n",
       "      <td>0</td>\n",
       "    </tr>\n",
       "    <tr>\n",
       "      <th>...</th>\n",
       "      <td>...</td>\n",
       "      <td>...</td>\n",
       "      <td>...</td>\n",
       "      <td>...</td>\n",
       "      <td>...</td>\n",
       "      <td>...</td>\n",
       "      <td>...</td>\n",
       "    </tr>\n",
       "    <tr>\n",
       "      <th>311</th>\n",
       "      <td>2049</td>\n",
       "      <td>1813</td>\n",
       "      <td>1537</td>\n",
       "      <td>1935</td>\n",
       "      <td>1744</td>\n",
       "      <td>1928</td>\n",
       "      <td>1983</td>\n",
       "    </tr>\n",
       "    <tr>\n",
       "      <th>312</th>\n",
       "      <td>1813</td>\n",
       "      <td>1537</td>\n",
       "      <td>1935</td>\n",
       "      <td>1744</td>\n",
       "      <td>1928</td>\n",
       "      <td>1983</td>\n",
       "      <td>1898</td>\n",
       "    </tr>\n",
       "    <tr>\n",
       "      <th>313</th>\n",
       "      <td>1537</td>\n",
       "      <td>1935</td>\n",
       "      <td>1744</td>\n",
       "      <td>1928</td>\n",
       "      <td>1983</td>\n",
       "      <td>1898</td>\n",
       "      <td>1951</td>\n",
       "    </tr>\n",
       "    <tr>\n",
       "      <th>314</th>\n",
       "      <td>1935</td>\n",
       "      <td>1744</td>\n",
       "      <td>1928</td>\n",
       "      <td>1983</td>\n",
       "      <td>1898</td>\n",
       "      <td>1951</td>\n",
       "      <td>1947</td>\n",
       "    </tr>\n",
       "    <tr>\n",
       "      <th>315</th>\n",
       "      <td>1744</td>\n",
       "      <td>1928</td>\n",
       "      <td>1983</td>\n",
       "      <td>1898</td>\n",
       "      <td>1951</td>\n",
       "      <td>1947</td>\n",
       "      <td>1774</td>\n",
       "    </tr>\n",
       "  </tbody>\n",
       "</table>\n",
       "<p>316 rows × 7 columns</p>\n",
       "</div>"
      ],
      "text/plain": [
       "     load0  load1  load2  load3  load4  load5  load6\n",
       "0        1      0      1      0      0      0      1\n",
       "1        0      1      0      0      0      1      0\n",
       "2        1      0      0      0      1      0      0\n",
       "3        0      0      0      1      0      0      0\n",
       "4        0      0      1      0      0      0      0\n",
       "..     ...    ...    ...    ...    ...    ...    ...\n",
       "311   2049   1813   1537   1935   1744   1928   1983\n",
       "312   1813   1537   1935   1744   1928   1983   1898\n",
       "313   1537   1935   1744   1928   1983   1898   1951\n",
       "314   1935   1744   1928   1983   1898   1951   1947\n",
       "315   1744   1928   1983   1898   1951   1947   1774\n",
       "\n",
       "[316 rows x 7 columns]"
      ]
     },
     "execution_count": 527,
     "metadata": {},
     "output_type": "execute_result"
    }
   ],
   "source": [
    "X"
   ]
  },
  {
   "cell_type": "code",
   "execution_count": 528,
   "metadata": {},
   "outputs": [],
   "source": [
    "# normalizing input features\n",
    "scaler = MinMaxScaler(feature_range=(0, 1))\n",
    "X = scaler.fit_transform(X)\n",
    "X =pd.DataFrame(X)"
   ]
  },
  {
   "cell_type": "code",
   "execution_count": 529,
   "metadata": {},
   "outputs": [],
   "source": [
    "X.to_csv('data/X_after_custom_sampling_Without_scaler1.csv', index = False) \n",
    "Y.to_csv('data/Y_after_custom_sampling_Without_scaler1.csv', index = False) "
   ]
  },
  {
   "cell_type": "code",
   "execution_count": null,
   "metadata": {},
   "outputs": [],
   "source": []
  },
  {
   "cell_type": "code",
   "execution_count": 530,
   "metadata": {},
   "outputs": [],
   "source": [
    "X_train, X_test, y_train, y_test = train_test_split(X, Y, test_size=0.05, shuffle = False, stratify = None)"
   ]
  },
  {
   "cell_type": "code",
   "execution_count": 531,
   "metadata": {},
   "outputs": [
    {
     "name": "stdout",
     "output_type": "stream",
     "text": [
      "X_train.shape:  (300, 7)\n",
      "y_train.shape:  (300, 1)\n",
      "X_test.shape:  (16, 7)\n",
      "y_test.shape:  (16, 1)\n"
     ]
    }
   ],
   "source": [
    "print(\"X_train.shape: \", X_train.shape)\n",
    "print(\"y_train.shape: \", y_train.shape)\n",
    "\n",
    "print(\"X_test.shape: \", X_test.shape)\n",
    "print(\"y_test.shape: \", y_test.shape)"
   ]
  },
  {
   "cell_type": "code",
   "execution_count": 532,
   "metadata": {},
   "outputs": [
    {
     "data": {
      "text/html": [
       "<div>\n",
       "<style scoped>\n",
       "    .dataframe tbody tr th:only-of-type {\n",
       "        vertical-align: middle;\n",
       "    }\n",
       "\n",
       "    .dataframe tbody tr th {\n",
       "        vertical-align: top;\n",
       "    }\n",
       "\n",
       "    .dataframe thead th {\n",
       "        text-align: right;\n",
       "    }\n",
       "</style>\n",
       "<table border=\"1\" class=\"dataframe\">\n",
       "  <thead>\n",
       "    <tr style=\"text-align: right;\">\n",
       "      <th></th>\n",
       "      <th>label_value</th>\n",
       "    </tr>\n",
       "  </thead>\n",
       "  <tbody>\n",
       "    <tr>\n",
       "      <th>300</th>\n",
       "      <td>1843</td>\n",
       "    </tr>\n",
       "    <tr>\n",
       "      <th>301</th>\n",
       "      <td>1700</td>\n",
       "    </tr>\n",
       "    <tr>\n",
       "      <th>302</th>\n",
       "      <td>1595</td>\n",
       "    </tr>\n",
       "    <tr>\n",
       "      <th>303</th>\n",
       "      <td>1807</td>\n",
       "    </tr>\n",
       "    <tr>\n",
       "      <th>304</th>\n",
       "      <td>2049</td>\n",
       "    </tr>\n",
       "    <tr>\n",
       "      <th>305</th>\n",
       "      <td>1813</td>\n",
       "    </tr>\n",
       "    <tr>\n",
       "      <th>306</th>\n",
       "      <td>1537</td>\n",
       "    </tr>\n",
       "    <tr>\n",
       "      <th>307</th>\n",
       "      <td>1935</td>\n",
       "    </tr>\n",
       "    <tr>\n",
       "      <th>308</th>\n",
       "      <td>1744</td>\n",
       "    </tr>\n",
       "    <tr>\n",
       "      <th>309</th>\n",
       "      <td>1928</td>\n",
       "    </tr>\n",
       "    <tr>\n",
       "      <th>310</th>\n",
       "      <td>1983</td>\n",
       "    </tr>\n",
       "    <tr>\n",
       "      <th>311</th>\n",
       "      <td>1898</td>\n",
       "    </tr>\n",
       "    <tr>\n",
       "      <th>312</th>\n",
       "      <td>1951</td>\n",
       "    </tr>\n",
       "    <tr>\n",
       "      <th>313</th>\n",
       "      <td>1947</td>\n",
       "    </tr>\n",
       "    <tr>\n",
       "      <th>314</th>\n",
       "      <td>1774</td>\n",
       "    </tr>\n",
       "    <tr>\n",
       "      <th>315</th>\n",
       "      <td>1759</td>\n",
       "    </tr>\n",
       "  </tbody>\n",
       "</table>\n",
       "</div>"
      ],
      "text/plain": [
       "     label_value\n",
       "300         1843\n",
       "301         1700\n",
       "302         1595\n",
       "303         1807\n",
       "304         2049\n",
       "305         1813\n",
       "306         1537\n",
       "307         1935\n",
       "308         1744\n",
       "309         1928\n",
       "310         1983\n",
       "311         1898\n",
       "312         1951\n",
       "313         1947\n",
       "314         1774\n",
       "315         1759"
      ]
     },
     "execution_count": 532,
     "metadata": {},
     "output_type": "execute_result"
    }
   ],
   "source": [
    "y_test"
   ]
  },
  {
   "cell_type": "markdown",
   "metadata": {},
   "source": [
    " # Implement  Machine Learning Algorithm"
   ]
  },
  {
   "cell_type": "markdown",
   "metadata": {},
   "source": [
    "# SVM"
   ]
  },
  {
   "cell_type": "code",
   "execution_count": 533,
   "metadata": {},
   "outputs": [],
   "source": [
    "from sklearn.linear_model import LogisticRegression\n",
    "from sklearn import svm"
   ]
  },
  {
   "cell_type": "code",
   "execution_count": 534,
   "metadata": {},
   "outputs": [
    {
     "name": "stdout",
     "output_type": "stream",
     "text": [
      "Elapsed time: 1446.671875 1446.671875\n",
      "Elapsed time during the whole program in seconds: 0.0\n"
     ]
    },
    {
     "name": "stderr",
     "output_type": "stream",
     "text": [
      "C:\\Users\\smr99\\anaconda3\\envs\\pd\\lib\\site-packages\\sklearn\\utils\\validation.py:73: DataConversionWarning: A column-vector y was passed when a 1d array was expected. Please change the shape of y to (n_samples, ), for example using ravel().\n",
      "  return f(**kwargs)\n"
     ]
    }
   ],
   "source": [
    "t1_start = process_time()  \n",
    "SVM = svm.SVR(kernel='sigmoid', C=150,gamma=0.1, epsilon=0.1,).fit(X_train, y_train)\n",
    "t1_stop = process_time() \n",
    "SVM_process_time=  t1_stop-t1_start\n",
    "print(\"Elapsed time:\", t1_stop, t1_start)  \n",
    "print(\"Elapsed time during the whole program in seconds:\", \n",
    "                                         SVM_process_time)  \n",
    "y_pred  = SVM.predict(X_test)"
   ]
  },
  {
   "cell_type": "code",
   "execution_count": 535,
   "metadata": {},
   "outputs": [
    {
     "name": "stdout",
     "output_type": "stream",
     "text": [
      "MSE: 69584.24679934798\n",
      "RMSE: 263.7882612993762\n"
     ]
    }
   ],
   "source": [
    "# score = SVM.score(X_test,y_test)\n",
    "# print(\"R-squared:\", score)\n",
    "SVM_MSE  = mean_squared_error(y_test, y_pred, squared=True)\n",
    "SVM_RMSE  = mean_squared_error(y_test, y_pred, squared=False)\n",
    "\n",
    "print(\"MSE:\", SVM_MSE)\n",
    "print(\"RMSE:\", SVM_RMSE)"
   ]
  },
  {
   "cell_type": "code",
   "execution_count": 536,
   "metadata": {},
   "outputs": [
    {
     "data": {
      "image/png": "[encoded data removed]",
      "text/plain": [
       "<Figure size 864x576 with 1 Axes>"
      ]
     },
     "metadata": {
      "needs_background": "light"
     },
     "output_type": "display_data"
    }
   ],
   "source": [
    "pyplot.figure(figsize=(12,8))\n",
    "aa=[x for x in range(15)]\n",
    "pyplot.plot(aa, y_test[:15], marker='.', label=\"actual\")\n",
    "pyplot.plot(aa, y_pred[:15], 'r', label=\"prediction\")\n",
    "pyplot.ylabel('Cases', size=15)\n",
    "pyplot.xlabel('Time step', size=15)\n",
    "pyplot.legend(fontsize=15)\n",
    "pyplot.show()"
   ]
  },
  {
   "cell_type": "markdown",
   "metadata": {},
   "source": [
    "# LogisticRegression"
   ]
  },
  {
   "cell_type": "code",
   "execution_count": 537,
   "metadata": {},
   "outputs": [
    {
     "name": "stderr",
     "output_type": "stream",
     "text": [
      "C:\\Users\\smr99\\anaconda3\\envs\\pd\\lib\\site-packages\\sklearn\\utils\\validation.py:73: DataConversionWarning: A column-vector y was passed when a 1d array was expected. Please change the shape of y to (n_samples, ), for example using ravel().\n",
      "  return f(**kwargs)\n"
     ]
    },
    {
     "name": "stdout",
     "output_type": "stream",
     "text": [
      "Elapsed time: 1447.875 1446.875\n",
      "Elapsed time during the whole program in seconds: 1.0\n"
     ]
    }
   ],
   "source": [
    "t1_start = process_time()  \n",
    "LR = LogisticRegression(C=300 ,     random_state=None, solver='newton-cg'  ).fit(X_train, y_train)\n",
    "t1_stop = process_time() \n",
    "LR_process_time=  t1_stop-t1_start\n",
    "print(\"Elapsed time:\", t1_stop, t1_start)  \n",
    "print(\"Elapsed time during the whole program in seconds:\", \n",
    "                                         LR_process_time)  \n",
    "y_pred = LR.predict(X_test)\n",
    "# round(LR.score(X_testing,Y_testing), 4)"
   ]
  },
  {
   "cell_type": "code",
   "execution_count": 538,
   "metadata": {},
   "outputs": [
    {
     "name": "stdout",
     "output_type": "stream",
     "text": [
      "MSE: 192345.625\n",
      "RMSE: 438.5722574445401\n"
     ]
    }
   ],
   "source": [
    "LR_MSE  = mean_squared_error(y_test, y_pred, squared=True)\n",
    "LR_RMSE  = mean_squared_error(y_test, y_pred, squared=False)\n",
    "\n",
    "print(\"MSE:\", LR_MSE)\n",
    "print(\"RMSE:\", LR_RMSE)"
   ]
  },
  {
   "cell_type": "code",
   "execution_count": 539,
   "metadata": {},
   "outputs": [
    {
     "data": {
      "image/png": "[encoded data removed]",
      "text/plain": [
       "<Figure size 864x576 with 1 Axes>"
      ]
     },
     "metadata": {
      "needs_background": "light"
     },
     "output_type": "display_data"
    }
   ],
   "source": [
    "pyplot.figure(figsize=(12,8))\n",
    "aa=[x for x in range(15)]\n",
    "pyplot.plot(aa, y_test[:15], marker='.', label=\"actual\")\n",
    "pyplot.plot(aa, y_pred[:15], 'r', label=\"prediction\")\n",
    "pyplot.ylabel('Cases', size=15)\n",
    "pyplot.xlabel('Time step', size=15)\n",
    "pyplot.legend(fontsize=15)\n",
    "pyplot.show()"
   ]
  },
  {
   "cell_type": "code",
   "execution_count": null,
   "metadata": {},
   "outputs": [],
   "source": []
  },
  {
   "cell_type": "markdown",
   "metadata": {},
   "source": [
    "# GradientBoostingRegressor"
   ]
  },
  {
   "cell_type": "code",
   "execution_count": 540,
   "metadata": {},
   "outputs": [],
   "source": [
    "from sklearn.ensemble import GradientBoostingRegressor, RandomForestRegressor\n"
   ]
  },
  {
   "cell_type": "code",
   "execution_count": 541,
   "metadata": {},
   "outputs": [
    {
     "name": "stderr",
     "output_type": "stream",
     "text": [
      "C:\\Users\\smr99\\anaconda3\\envs\\pd\\lib\\site-packages\\sklearn\\utils\\validation.py:73: DataConversionWarning: A column-vector y was passed when a 1d array was expected. Please change the shape of y to (n_samples, ), for example using ravel().\n",
      "  return f(**kwargs)\n"
     ]
    },
    {
     "name": "stdout",
     "output_type": "stream",
     "text": [
      "Elapsed time: 1449.171875 1448.625\n",
      "Elapsed time during the whole program in seconds: 0.546875\n"
     ]
    }
   ],
   "source": [
    "t1_start = process_time()\n",
    "gbr = GradientBoostingRegressor(n_estimators=1000, random_state=0)\n",
    "gbr.fit(X_train, y_train )\n",
    "t1_stop = process_time() \n",
    "gbr_process_time=  t1_stop-t1_start\n",
    "print(\"Elapsed time:\", t1_stop, t1_start)  \n",
    "print(\"Elapsed time during the whole program in seconds:\", \n",
    "                                         gbr_process_time)  \n",
    "\n",
    " "
   ]
  },
  {
   "cell_type": "code",
   "execution_count": 542,
   "metadata": {},
   "outputs": [],
   "source": [
    "y_pred = gbr.predict(X_test)"
   ]
  },
  {
   "cell_type": "code",
   "execution_count": 543,
   "metadata": {},
   "outputs": [
    {
     "name": "stdout",
     "output_type": "stream",
     "text": [
      "MSE: 140158.58237651782\n",
      "RMSE: 374.3775933152488\n"
     ]
    }
   ],
   "source": [
    "gbr_MSE  = mean_squared_error(y_test, y_pred, squared=True)\n",
    "gbr_RMSE  = mean_squared_error(y_test, y_pred, squared=False)\n",
    "\n",
    "print(\"MSE:\", gbr_MSE)\n",
    "print(\"RMSE:\", gbr_RMSE)"
   ]
  },
  {
   "cell_type": "code",
   "execution_count": 544,
   "metadata": {},
   "outputs": [
    {
     "data": {
      "image/png": "[encoded data removed]",
      "text/plain": [
       "<Figure size 864x576 with 1 Axes>"
      ]
     },
     "metadata": {
      "needs_background": "light"
     },
     "output_type": "display_data"
    }
   ],
   "source": [
    "pyplot.figure(figsize=(12,8))\n",
    "aa=[x for x in range(15)]\n",
    "pyplot.plot(aa, y_test[:15], marker='.', label=\"actual\")\n",
    "pyplot.plot(aa, y_pred[:15], 'r', label=\"prediction\")\n",
    "pyplot.ylabel('Cases', size=15)\n",
    "pyplot.xlabel('Time step', size=15)\n",
    "pyplot.legend(fontsize=15)\n",
    "pyplot.show()"
   ]
  },
  {
   "cell_type": "markdown",
   "metadata": {},
   "source": [
    "# RandomForestRegressor"
   ]
  },
  {
   "cell_type": "code",
   "execution_count": 545,
   "metadata": {},
   "outputs": [
    {
     "name": "stderr",
     "output_type": "stream",
     "text": [
      "C:\\Users\\smr99\\anaconda3\\envs\\pd\\lib\\site-packages\\ipykernel_launcher.py:3: DataConversionWarning: A column-vector y was passed when a 1d array was expected. Please change the shape of y to (n_samples,), for example using ravel().\n",
      "  This is separate from the ipykernel package so we can avoid doing imports until\n"
     ]
    },
    {
     "name": "stdout",
     "output_type": "stream",
     "text": [
      "Elapsed time: 1454.21875 1449.34375\n",
      "Elapsed time during the whole program in seconds: 4.875\n"
     ]
    }
   ],
   "source": [
    "t1_start = process_time()\n",
    "regr = RandomForestRegressor(n_estimators=1000, criterion='mae', max_depth=100 , random_state=0)\n",
    "regr.fit(X_train, y_train)\n",
    "t1_stop = process_time() \n",
    "regr_process_time=  t1_stop-t1_start\n",
    "print(\"Elapsed time:\", t1_stop, t1_start)  \n",
    "print(\"Elapsed time during the whole program in seconds:\", \n",
    "                                         regr_process_time)  \n",
    " "
   ]
  },
  {
   "cell_type": "code",
   "execution_count": 546,
   "metadata": {},
   "outputs": [],
   "source": [
    "y_pred = regr.predict(X_test)"
   ]
  },
  {
   "cell_type": "code",
   "execution_count": 547,
   "metadata": {},
   "outputs": [
    {
     "name": "stdout",
     "output_type": "stream",
     "text": [
      "MSE: 193525.16868918753\n",
      "RMSE: 439.9149562008406\n"
     ]
    }
   ],
   "source": [
    "regr_MSE  = mean_squared_error(y_test, y_pred, squared=True)\n",
    "regr_RMSE  = mean_squared_error(y_test, y_pred, squared=False)\n",
    "\n",
    "print(\"MSE:\", regr_MSE)\n",
    "print(\"RMSE:\", regr_RMSE)"
   ]
  },
  {
   "cell_type": "code",
   "execution_count": 548,
   "metadata": {},
   "outputs": [
    {
     "data": {
      "image/png": "[encoded data removed]",
      "text/plain": [
       "<Figure size 432x288 with 1 Axes>"
      ]
     },
     "metadata": {
      "needs_background": "light"
     },
     "output_type": "display_data"
    }
   ],
   "source": [
    "pyplot.figure(figsize=(6,4))\n",
    "aa=[x for x in range(15)]\n",
    "pyplot.plot(aa, y_test[:15], marker='.', label=\"actual cases\")\n",
    "pyplot.plot(aa, y_pred[:15], 'r', label=\"prediction cases\")\n",
    "pyplot.ylabel('Cases', size=15)\n",
    "pyplot.xlabel('Time step', size=15)\n",
    "pyplot.legend(fontsize=15)\n",
    "pyplot.show()"
   ]
  },
  {
   "cell_type": "code",
   "execution_count": null,
   "metadata": {},
   "outputs": [],
   "source": [
    " \n",
    "\n",
    " "
   ]
  },
  {
   "cell_type": "code",
   "execution_count": null,
   "metadata": {},
   "outputs": [],
   "source": []
  },
  {
   "cell_type": "code",
   "execution_count": 549,
   "metadata": {},
   "outputs": [
    {
     "data": {
      "text/html": [
       "<div>\n",
       "<style scoped>\n",
       "    .dataframe tbody tr th:only-of-type {\n",
       "        vertical-align: middle;\n",
       "    }\n",
       "\n",
       "    .dataframe tbody tr th {\n",
       "        vertical-align: top;\n",
       "    }\n",
       "\n",
       "    .dataframe thead th {\n",
       "        text-align: right;\n",
       "    }\n",
       "</style>\n",
       "<table border=\"1\" class=\"dataframe\">\n",
       "  <thead>\n",
       "    <tr style=\"text-align: right;\">\n",
       "      <th></th>\n",
       "      <th>0</th>\n",
       "      <th>1</th>\n",
       "      <th>2</th>\n",
       "      <th>3</th>\n",
       "      <th>4</th>\n",
       "      <th>5</th>\n",
       "      <th>6</th>\n",
       "    </tr>\n",
       "  </thead>\n",
       "  <tbody>\n",
       "    <tr>\n",
       "      <th>0</th>\n",
       "      <td>0.000488</td>\n",
       "      <td>0.000000</td>\n",
       "      <td>0.000488</td>\n",
       "      <td>0.000000</td>\n",
       "      <td>0.000000</td>\n",
       "      <td>0.000000</td>\n",
       "      <td>0.000488</td>\n",
       "    </tr>\n",
       "    <tr>\n",
       "      <th>1</th>\n",
       "      <td>0.000000</td>\n",
       "      <td>0.000488</td>\n",
       "      <td>0.000000</td>\n",
       "      <td>0.000000</td>\n",
       "      <td>0.000000</td>\n",
       "      <td>0.000488</td>\n",
       "      <td>0.000000</td>\n",
       "    </tr>\n",
       "    <tr>\n",
       "      <th>2</th>\n",
       "      <td>0.000488</td>\n",
       "      <td>0.000000</td>\n",
       "      <td>0.000000</td>\n",
       "      <td>0.000000</td>\n",
       "      <td>0.000488</td>\n",
       "      <td>0.000000</td>\n",
       "      <td>0.000000</td>\n",
       "    </tr>\n",
       "    <tr>\n",
       "      <th>3</th>\n",
       "      <td>0.000000</td>\n",
       "      <td>0.000000</td>\n",
       "      <td>0.000000</td>\n",
       "      <td>0.000488</td>\n",
       "      <td>0.000000</td>\n",
       "      <td>0.000000</td>\n",
       "      <td>0.000000</td>\n",
       "    </tr>\n",
       "    <tr>\n",
       "      <th>4</th>\n",
       "      <td>0.000000</td>\n",
       "      <td>0.000000</td>\n",
       "      <td>0.000488</td>\n",
       "      <td>0.000000</td>\n",
       "      <td>0.000000</td>\n",
       "      <td>0.000000</td>\n",
       "      <td>0.000000</td>\n",
       "    </tr>\n",
       "    <tr>\n",
       "      <th>...</th>\n",
       "      <td>...</td>\n",
       "      <td>...</td>\n",
       "      <td>...</td>\n",
       "      <td>...</td>\n",
       "      <td>...</td>\n",
       "      <td>...</td>\n",
       "      <td>...</td>\n",
       "    </tr>\n",
       "    <tr>\n",
       "      <th>311</th>\n",
       "      <td>1.000000</td>\n",
       "      <td>0.884822</td>\n",
       "      <td>0.750122</td>\n",
       "      <td>0.944363</td>\n",
       "      <td>0.851147</td>\n",
       "      <td>0.940947</td>\n",
       "      <td>0.967789</td>\n",
       "    </tr>\n",
       "    <tr>\n",
       "      <th>312</th>\n",
       "      <td>0.884822</td>\n",
       "      <td>0.750122</td>\n",
       "      <td>0.944363</td>\n",
       "      <td>0.851147</td>\n",
       "      <td>0.940947</td>\n",
       "      <td>0.967789</td>\n",
       "      <td>0.926306</td>\n",
       "    </tr>\n",
       "    <tr>\n",
       "      <th>313</th>\n",
       "      <td>0.750122</td>\n",
       "      <td>0.944363</td>\n",
       "      <td>0.851147</td>\n",
       "      <td>0.940947</td>\n",
       "      <td>0.967789</td>\n",
       "      <td>0.926306</td>\n",
       "      <td>0.952172</td>\n",
       "    </tr>\n",
       "    <tr>\n",
       "      <th>314</th>\n",
       "      <td>0.944363</td>\n",
       "      <td>0.851147</td>\n",
       "      <td>0.940947</td>\n",
       "      <td>0.967789</td>\n",
       "      <td>0.926306</td>\n",
       "      <td>0.952172</td>\n",
       "      <td>0.950220</td>\n",
       "    </tr>\n",
       "    <tr>\n",
       "      <th>315</th>\n",
       "      <td>0.851147</td>\n",
       "      <td>0.940947</td>\n",
       "      <td>0.967789</td>\n",
       "      <td>0.926306</td>\n",
       "      <td>0.952172</td>\n",
       "      <td>0.950220</td>\n",
       "      <td>0.865788</td>\n",
       "    </tr>\n",
       "  </tbody>\n",
       "</table>\n",
       "<p>316 rows × 7 columns</p>\n",
       "</div>"
      ],
      "text/plain": [
       "            0         1         2         3         4         5         6\n",
       "0    0.000488  0.000000  0.000488  0.000000  0.000000  0.000000  0.000488\n",
       "1    0.000000  0.000488  0.000000  0.000000  0.000000  0.000488  0.000000\n",
       "2    0.000488  0.000000  0.000000  0.000000  0.000488  0.000000  0.000000\n",
       "3    0.000000  0.000000  0.000000  0.000488  0.000000  0.000000  0.000000\n",
       "4    0.000000  0.000000  0.000488  0.000000  0.000000  0.000000  0.000000\n",
       "..        ...       ...       ...       ...       ...       ...       ...\n",
       "311  1.000000  0.884822  0.750122  0.944363  0.851147  0.940947  0.967789\n",
       "312  0.884822  0.750122  0.944363  0.851147  0.940947  0.967789  0.926306\n",
       "313  0.750122  0.944363  0.851147  0.940947  0.967789  0.926306  0.952172\n",
       "314  0.944363  0.851147  0.940947  0.967789  0.926306  0.952172  0.950220\n",
       "315  0.851147  0.940947  0.967789  0.926306  0.952172  0.950220  0.865788\n",
       "\n",
       "[316 rows x 7 columns]"
      ]
     },
     "execution_count": 549,
     "metadata": {},
     "output_type": "execute_result"
    }
   ],
   "source": [
    "X"
   ]
  },
  {
   "cell_type": "code",
   "execution_count": 550,
   "metadata": {},
   "outputs": [],
   "source": [
    "from keras.models import Sequential\n",
    "from keras.layers import BatchNormalization, Dense\n",
    "from keras.layers import LSTM\n",
    "from keras.layers import Dropout\n",
    "from sklearn.metrics import mean_squared_error\n",
    "from keras.utils import to_categorical\n",
    "from math import sqrt\n",
    "from keras.layers import Bidirectional\n",
    "from keras.layers import  GlobalMaxPooling1D\n",
    "from keras.layers.convolutional import Conv1D\n",
    "from keras.layers.convolutional import MaxPooling1D\n",
    "from keras.layers import Flatten"
   ]
  },
  {
   "cell_type": "markdown",
   "metadata": {},
   "source": [
    "# LSTM"
   ]
  },
  {
   "cell_type": "code",
   "execution_count": 551,
   "metadata": {},
   "outputs": [
    {
     "name": "stdout",
     "output_type": "stream",
     "text": [
      "(300, 7, 1) (300, 1) (16, 7, 1) (16, 1)\n"
     ]
    }
   ],
   "source": [
    "X_train_nn = X_train.values.reshape((X_train.shape[0],   X_train.shape[1],1))\n",
    "X_test_nn  = X_test.values.reshape((X_test.shape[0],   X_test.shape[1],1))\n",
    "print(X_train_nn.shape, y_train.shape, X_test_nn.shape, y_test.shape)\n",
    " "
   ]
  },
  {
   "cell_type": "code",
   "execution_count": 552,
   "metadata": {},
   "outputs": [],
   "source": [
    "# normalizing input features\n",
    "scaler = MinMaxScaler(feature_range=(0, 1))\n",
    "y_test1 = scaler.fit_transform(y_test)\n",
    "y_test1 =pd.DataFrame(y_test1)"
   ]
  },
  {
   "cell_type": "code",
   "execution_count": 553,
   "metadata": {},
   "outputs": [],
   "source": [
    "scaler1 = MinMaxScaler(feature_range=(0, 1))\n",
    "y_train1 = scaler1.fit_transform(y_train)\n",
    "y_train1 =pd.DataFrame(y_train1)"
   ]
  },
  {
   "cell_type": "code",
   "execution_count": 577,
   "metadata": {},
   "outputs": [],
   "source": [
    "def evaluate_model_lstm(trainX, trainy, testX, testy, epochs=10, batch_size=1,verbose=1):\n",
    "\n",
    "    n_timesteps, n_features, n_outputs = trainX.shape[1], trainX.shape[2], trainy.shape[1]\n",
    "    model = Sequential()\n",
    "    model.add(LSTM(200, return_sequences=True,input_shape=(n_timesteps, n_features)))\n",
    "    model.add(LSTM(units=100, return_sequences=True))\n",
    "    model.add(LSTM(units=50))\n",
    "    model.add(Dense(n_outputs ))\n",
    "    model.compile(loss='mae', optimizer='adam' )\n",
    "    # fit network\n",
    "    model_history = model.fit(trainX, trainy, epochs=epochs,  batch_size=batch_size, verbose=verbose,  shuffle=False)\n",
    " \n",
    "    return model,model_history"
   ]
  },
  {
   "cell_type": "code",
   "execution_count": 578,
   "metadata": {},
   "outputs": [
    {
     "name": "stdout",
     "output_type": "stream",
     "text": [
      "Epoch 1/10\n",
      "300/300 [==============================] - 2s 7ms/step - loss: 0.0530\n",
      "Epoch 2/10\n",
      "300/300 [==============================] - 2s 6ms/step - loss: 0.1010\n",
      "Epoch 3/10\n",
      "300/300 [==============================] - 2s 7ms/step - loss: 0.0782\n",
      "Epoch 4/10\n",
      "300/300 [==============================] - 2s 7ms/step - loss: 0.0629\n",
      "Epoch 5/10\n",
      "300/300 [==============================] - 2s 6ms/step - loss: 0.0615\n",
      "Epoch 6/10\n",
      "300/300 [==============================] - 2s 6ms/step - loss: 0.0580\n",
      "Epoch 7/10\n",
      "300/300 [==============================] - 2s 7ms/step - loss: 0.0564\n",
      "Epoch 8/10\n",
      "300/300 [==============================] - 2s 7ms/step - loss: 0.0567\n",
      "Epoch 9/10\n",
      "300/300 [==============================] - 2s 7ms/step - loss: 0.0539\n",
      "Epoch 10/10\n",
      "300/300 [==============================] - 2s 7ms/step - loss: 0.0563\n",
      "Elapsed time: 1649.34375 1577.15625\n",
      "Elapsed time during the whole program in seconds: 72.1875\n"
     ]
    }
   ],
   "source": [
    "t1_start = process_time()\n",
    "model_lstm, model_history  = evaluate_model_lstm(X_train_nn,y_train1,X_test_nn,y_test1)\n",
    "\n",
    "t1_stop = process_time() \n",
    "model_lstm_process_time=  t1_stop-t1_start\n",
    "print(\"Elapsed time:\", t1_stop, t1_start)  \n",
    "print(\"Elapsed time during the whole program in seconds:\", \n",
    "                                         model_lstm_process_time) "
   ]
  },
  {
   "cell_type": "code",
   "execution_count": 556,
   "metadata": {},
   "outputs": [],
   "source": [
    "# pyplot.plot(model_history.history['loss'], label='LSTM train', color='red')\n",
    "# pyplot.plot(model_history.history['val_loss'], label='LSTM test', color= 'green')\n",
    "\n",
    "# pyplot.legend()\n",
    "# pyplot.show()"
   ]
  },
  {
   "cell_type": "code",
   "execution_count": 557,
   "metadata": {},
   "outputs": [],
   "source": [
    "yhat_test = model_lstm.predict(X_test_nn)\n"
   ]
  },
  {
   "cell_type": "code",
   "execution_count": 558,
   "metadata": {},
   "outputs": [],
   "source": [
    "yhat_test11 = scaler.inverse_transform(yhat_test)"
   ]
  },
  {
   "cell_type": "code",
   "execution_count": 560,
   "metadata": {},
   "outputs": [
    {
     "name": "stdout",
     "output_type": "stream",
     "text": [
      "MSE: 78267.92129356507\n",
      "RMSE: 279.76404574849334\n"
     ]
    }
   ],
   "source": [
    "lstm_MSE  = mean_squared_error(y_test, yhat_test11, squared=True)\n",
    "lstm_RMSE  = mean_squared_error(y_test, yhat_test11, squared=False)\n",
    "\n",
    "print(\"MSE:\", lstm_MSE)\n",
    "print(\"RMSE:\", lstm_RMSE)"
   ]
  },
  {
   "cell_type": "code",
   "execution_count": 561,
   "metadata": {},
   "outputs": [
    {
     "data": {
      "image/png": "[encoded data removed]",
      "text/plain": [
       "<Figure size 432x288 with 1 Axes>"
      ]
     },
     "metadata": {
      "needs_background": "light"
     },
     "output_type": "display_data"
    }
   ],
   "source": [
    "pyplot.figure(figsize=(6,4))\n",
    "aa=[x for x in range(15)]\n",
    "pyplot.plot(aa, y_test[:15], marker='.', label=\"actual\")\n",
    "pyplot.plot(aa, yhat_test11[:15], 'r', label=\"prediction\")\n",
    "pyplot.ylabel('Cases', size=15)\n",
    "pyplot.xlabel('Time step', size=15)\n",
    "pyplot.legend(fontsize=15)\n",
    "pyplot.show()"
   ]
  },
  {
   "cell_type": "markdown",
   "metadata": {},
   "source": [
    "# Conv1D_LSTM"
   ]
  },
  {
   "cell_type": "code",
   "execution_count": 562,
   "metadata": {},
   "outputs": [],
   "source": [
    "def evaluate_model_Conv1D_LSTM(trainX, trainy, testX, testy,  epochs=10, batch_size=1,verbose=1):\n",
    "    n_timesteps, n_features, n_outputs = trainX.shape[1], trainX.shape[2], trainy.shape[1]\n",
    "    model = Sequential()\n",
    "    model.add(LSTM(200, return_sequences=True, input_shape=(n_timesteps,n_features)))\n",
    "    model.add(Conv1D(100, kernel_size=3, activation = 'relu'))\n",
    "    model.add(GlobalMaxPooling1D())\n",
    "    model.add(Dense(50))\n",
    "    model.add(Dense(n_outputs ))\n",
    "    model.compile(loss='mae', optimizer='adam' )\n",
    " \n",
    "    # fit network\n",
    "    model.fit(trainX, trainy, epochs=epochs, batch_size=batch_size, verbose=verbose)\n",
    "\n",
    "     \n",
    "    return model"
   ]
  },
  {
   "cell_type": "code",
   "execution_count": 563,
   "metadata": {},
   "outputs": [
    {
     "name": "stdout",
     "output_type": "stream",
     "text": [
      "Epoch 1/10\n",
      "300/300 [==============================] - 1s 4ms/step - loss: 0.0662\n",
      "Epoch 2/10\n",
      "300/300 [==============================] - 1s 4ms/step - loss: 0.0480\n",
      "Epoch 3/10\n",
      "300/300 [==============================] - 1s 4ms/step - loss: 0.0402\n",
      "Epoch 4/10\n",
      "300/300 [==============================] - 1s 4ms/step - loss: 0.0461\n",
      "Epoch 5/10\n",
      "300/300 [==============================] - 1s 4ms/step - loss: 0.0407\n",
      "Epoch 6/10\n",
      "300/300 [==============================] - 1s 4ms/step - loss: 0.0410\n",
      "Epoch 7/10\n",
      "300/300 [==============================] - 1s 4ms/step - loss: 0.0410\n",
      "Epoch 8/10\n",
      "300/300 [==============================] - 1s 4ms/step - loss: 0.0400\n",
      "Epoch 9/10\n",
      "300/300 [==============================] - 2s 5ms/step - loss: 0.0379\n",
      "Epoch 10/10\n",
      "300/300 [==============================] - 2s 5ms/step - loss: 0.0382\n",
      "Elapsed time: 1572.265625 1531.046875\n",
      "Elapsed time during the whole program in seconds: 41.21875\n"
     ]
    }
   ],
   "source": [
    "t1_start = process_time()\n",
    "Conv1D_LSTM_model  = evaluate_model_Conv1D_LSTM(X_train_nn,y_train1,X_test_nn,y_test1)\n",
    "t1_stop = process_time() \n",
    "Conv1D_LSTM_process_time=  t1_stop-t1_start\n",
    "print(\"Elapsed time:\", t1_stop, t1_start)  \n",
    "print(\"Elapsed time during the whole program in seconds:\", \n",
    "                                       Conv1D_LSTM_process_time) "
   ]
  },
  {
   "cell_type": "code",
   "execution_count": 564,
   "metadata": {},
   "outputs": [],
   "source": [
    "yhat_test2 = Conv1D_LSTM_model.predict(X_test_nn)"
   ]
  },
  {
   "cell_type": "code",
   "execution_count": 565,
   "metadata": {},
   "outputs": [],
   "source": [
    "yhat_test3 = scaler.inverse_transform(yhat_test2)"
   ]
  },
  {
   "cell_type": "code",
   "execution_count": 566,
   "metadata": {},
   "outputs": [
    {
     "name": "stdout",
     "output_type": "stream",
     "text": [
      "MSE: 79560.1455868911\n",
      "RMSE: 282.0640806392957\n"
     ]
    }
   ],
   "source": [
    "Conv1D_LSTM_MSE  = mean_squared_error(y_test, yhat_test3, squared=True)\n",
    "Conv1D_LSTM_RMSE  = mean_squared_error(y_test, yhat_test3, squared=False)\n",
    "\n",
    "print(\"MSE:\", Conv1D_LSTM_MSE)\n",
    "print(\"RMSE:\", Conv1D_LSTM_RMSE)"
   ]
  },
  {
   "cell_type": "code",
   "execution_count": 567,
   "metadata": {},
   "outputs": [
    {
     "data": {
      "image/png": "[encoded data removed]",
      "text/plain": [
       "<Figure size 432x288 with 1 Axes>"
      ]
     },
     "metadata": {
      "needs_background": "light"
     },
     "output_type": "display_data"
    }
   ],
   "source": [
    "pyplot.figure(figsize=(6,4))\n",
    "aa=[x for x in range(15)]\n",
    "pyplot.plot(aa, y_test[:15], marker='.', label=\"actual cases\")\n",
    "pyplot.plot(aa, yhat_test3[:15], 'r', label=\"prediction cases\")\n",
    "pyplot.ylabel('Cases', size=15)\n",
    "pyplot.xlabel('Time step', size=15)\n",
    "pyplot.legend(fontsize=15)\n",
    "pyplot.show()"
   ]
  },
  {
   "cell_type": "markdown",
   "metadata": {},
   "source": [
    "# Conv1D"
   ]
  },
  {
   "cell_type": "code",
   "execution_count": 568,
   "metadata": {},
   "outputs": [],
   "source": [
    "\n",
    "# fit and evaluate a model\n",
    "def evaluate_model_Conv1D(trainX, trainy, testX, testy,  epochs=10, batch_size=1,verbose=1):\n",
    " \n",
    "    n_timesteps, n_features, n_outputs = trainX.shape[1], trainX.shape[2], trainy.shape[1]\n",
    "    model = Sequential()\n",
    "    model.add(Conv1D(filters=200, kernel_size=3, activation='relu', input_shape=(n_timesteps,n_features)))\n",
    "  \n",
    "    model.add(MaxPooling1D(pool_size=2))\n",
    "    model.add(Flatten())\n",
    "\n",
    "    model.add(Dense(n_outputs ))\n",
    "    model.compile(loss='mae', optimizer='adam' )\n",
    "#     model.summary()\n",
    "    # fit network\n",
    "    model.fit(trainX, trainy, epochs=epochs, batch_size=batch_size, verbose=verbose)\n",
    "\n",
    "     \n",
    "    return model"
   ]
  },
  {
   "cell_type": "code",
   "execution_count": 569,
   "metadata": {},
   "outputs": [
    {
     "name": "stdout",
     "output_type": "stream",
     "text": [
      "Epoch 1/10\n",
      "300/300 [==============================] - 0s 991us/step - loss: 0.0489\n",
      "Epoch 2/10\n",
      "300/300 [==============================] - 0s 704us/step - loss: 0.0404\n",
      "Epoch 3/10\n",
      "300/300 [==============================] - 0s 685us/step - loss: 0.0410\n",
      "Epoch 4/10\n",
      "300/300 [==============================] - 0s 783us/step - loss: 0.0399\n",
      "Epoch 5/10\n",
      "300/300 [==============================] - 0s 1ms/step - loss: 0.0386\n",
      "Epoch 6/10\n",
      "300/300 [==============================] - 0s 811us/step - loss: 0.0385\n",
      "Epoch 7/10\n",
      "300/300 [==============================] - 0s 888us/step - loss: 0.0384\n",
      "Epoch 8/10\n",
      "300/300 [==============================] - 0s 841us/step - loss: 0.0387\n",
      "Epoch 9/10\n",
      "300/300 [==============================] - 0s 721us/step - loss: 0.0378\n",
      "Epoch 10/10\n",
      "300/300 [==============================] - 0s 824us/step - loss: 0.0392\n"
     ]
    }
   ],
   "source": [
    "Conv1D_model  = evaluate_model_Conv1D(X_train_nn,y_train1,X_test_nn,y_test1)"
   ]
  },
  {
   "cell_type": "code",
   "execution_count": 570,
   "metadata": {},
   "outputs": [
    {
     "name": "stdout",
     "output_type": "stream",
     "text": [
      "Elapsed time: 1576.46875 1576.421875\n",
      "Elapsed time during the whole program in seconds: 41.21875\n"
     ]
    }
   ],
   "source": [
    "t1_start = process_time()\n",
    "yhat_test5 = Conv1D_model.predict(X_test_nn)\n",
    "t1_stop = process_time() \n",
    "Conv1D_process_time=  t1_stop-t1_start\n",
    "print(\"Elapsed time:\", t1_stop, t1_start)  \n",
    "print(\"Elapsed time during the whole program in seconds:\", \n",
    "                                       Conv1D_LSTM_process_time) "
   ]
  },
  {
   "cell_type": "code",
   "execution_count": 571,
   "metadata": {},
   "outputs": [],
   "source": [
    "yhat_test56 = scaler.inverse_transform(yhat_test5)"
   ]
  },
  {
   "cell_type": "code",
   "execution_count": 572,
   "metadata": {},
   "outputs": [
    {
     "name": "stdout",
     "output_type": "stream",
     "text": [
      "MSE: 107154.60396610573\n",
      "RMSE: 327.34477843109966\n"
     ]
    }
   ],
   "source": [
    "Conv1D_MSE  = mean_squared_error(y_test, yhat_test56, squared=True)\n",
    "Conv1D_RMSE  = mean_squared_error(y_test, yhat_test56, squared=False)\n",
    "\n",
    "print(\"MSE:\", Conv1D_MSE)\n",
    "print(\"RMSE:\", Conv1D_RMSE)"
   ]
  },
  {
   "cell_type": "markdown",
   "metadata": {},
   "source": [
    " # Result Comparing"
   ]
  },
  {
   "cell_type": "code",
   "execution_count": 573,
   "metadata": {},
   "outputs": [
    {
     "data": {
      "image/png": "[encoded data removed]",
      "text/plain": [
       "<Figure size 432x288 with 1 Axes>"
      ]
     },
     "metadata": {
      "needs_background": "light"
     },
     "output_type": "display_data"
    }
   ],
   "source": [
    "import matplotlib.pyplot as plt;  import matplotlib as mpl\n",
    "import numpy as np\n",
    "import matplotlib.pyplot as plt\n",
    "\n",
    "objects = ('SVM', 'Logistic Regression', 'Gradient Boosting Regressor', 'Random Forest Regressor', 'LSTM', 'Conv1D', 'Conv1D LSTM' )\n",
    "y_pos = np.arange(len(objects))\n",
    "performance = [SVM_MSE, LR_MSE, gbr_MSE, regr_MSE, lstm_MSE, Conv1D_MSE, Conv1D_LSTM_MSE]\n",
    "fig = plt.figure(figsize=(6, 4))\n",
    "plt.bar(y_pos, performance, align='center', alpha=0.5)\n",
    "plt.xticks(y_pos, objects)\n",
    "plt.ylabel('MSE')\n",
    " \n",
    "plt.xticks(rotation=45, ha='right')\n",
    "plt.show()\n",
    "fig.savefig('images/MSE.pdf')"
   ]
  },
  {
   "cell_type": "code",
   "execution_count": 576,
   "metadata": {},
   "outputs": [
    {
     "data": {
      "image/png": "[encoded data removed]",
      "text/plain": [
       "<Figure size 432x288 with 1 Axes>"
      ]
     },
     "metadata": {
      "needs_background": "light"
     },
     "output_type": "display_data"
    }
   ],
   "source": [
    "import matplotlib.pyplot as plt;  import matplotlib as mpl\n",
    "import numpy as np\n",
    "import matplotlib.pyplot as plt\n",
    "\n",
    "objects = ('SVM', 'Logistic Regression', 'Gradient Boosting Regressor', 'Random Forest Regressor', 'LSTM', 'Conv1D', 'Conv1D LSTM' )\n",
    "y_pos = np.arange(len(objects))\n",
    "performance = [SVM_process_time, LR_process_time, gbr_process_time, regr_process_time, model_lstm_process_time, Conv1D_process_time, Conv1D_LSTM_process_time ]\n",
    "fig = plt.figure(figsize=(6, 4))\n",
    "plt.bar(y_pos, performance, align='center', alpha=0.5)\n",
    "plt.xticks(y_pos, objects)\n",
    "plt.ylabel('Process Time (s)')\n",
    " \n",
    "plt.xticks(rotation=45, ha='right')\n",
    "plt.show()\n",
    "fig.savefig('images/RMSE.pdf')"
   ]
  },
  {
   "cell_type": "code",
   "execution_count": null,
   "metadata": {},
   "outputs": [],
   "source": []
  },
  {
   "cell_type": "code",
   "execution_count": 575,
   "metadata": {},
   "outputs": [
    {
     "data": {
      "image/png": "[encoded data removed]",
      "text/plain": [
       "<Figure size 432x288 with 1 Axes>"
      ]
     },
     "metadata": {
      "needs_background": "light"
     },
     "output_type": "display_data"
    }
   ],
   "source": [
    "import matplotlib.pyplot as plt;  import matplotlib as mpl\n",
    "import numpy as np\n",
    "import matplotlib.pyplot as plt\n",
    "\n",
    "objects = ('SVM', 'Logistic Regression', 'Gradient Boosting Regressor', 'Random Forest Regressor', 'LSTM', 'Conv1D', 'Conv1D LSTM' )\n",
    "y_pos = np.arange(len(objects))\n",
    "performance = [SVM_RMSE, LR_RMSE, gbr_RMSE, regr_RMSE, lstm_RMSE, Conv1D_RMSE, Conv1D_LSTM_RMSE ]\n",
    "fig = plt.figure(figsize=(6, 4))\n",
    "plt.bar(y_pos, performance, align='center', alpha=0.5)\n",
    "plt.xticks(y_pos, objects)\n",
    "plt.ylabel('RMSE')\n",
    " \n",
    "plt.xticks(rotation=45, ha='right')\n",
    "plt.show()\n",
    "fig.savefig('images/RMSE.pdf')"
   ]
  },
  {
   "cell_type": "code",
   "execution_count": null,
   "metadata": {},
   "outputs": [],
   "source": []
  },
  {
   "cell_type": "code",
   "execution_count": null,
   "metadata": {},
   "outputs": [],
   "source": []
  }
 ],
 "metadata": {
  "kernelspec": {
   "display_name": "Python 3",
   "language": "python",
   "name": "python3"
  },
  "language_info": {
   "codemirror_mode": {
    "name": "ipython",
    "version": 3
   },
   "file_extension": ".py",
   "mimetype": "text/x-python",
   "name": "python",
   "nbconvert_exporter": "python",
   "pygments_lexer": "ipython3",
   "version": "3.7.7"
  }
 },
 "nbformat": 4,
 "nbformat_minor": 4
}
