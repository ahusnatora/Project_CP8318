{
 "cells": [
  {
   "cell_type": "markdown",
   "metadata": {},
   "source": [
    " # Library declaration "
   ]
  },
  {
   "cell_type": "code",
   "execution_count": 1,
   "metadata": {},
   "outputs": [
    {
     "name": "stderr",
     "output_type": "stream",
     "text": [
      "Using TensorFlow backend.\n"
     ]
    }
   ],
   "source": [
    "import pandas as pd\n",
    "import numpy as np\n",
    "from math import sqrt\n",
    "from numpy import concatenate\n",
    "from matplotlib import pyplot\n",
    "from pandas import read_csv\n",
    "from pandas import DataFrame\n",
    "from pandas import concat\n",
    "from sklearn.preprocessing import MinMaxScaler\n",
    "from sklearn.preprocessing import LabelEncoder\n",
    "from sklearn.metrics import mean_squared_error\n",
    "from keras.models import Sequential\n",
    "from keras.layers import Dense\n",
    "from keras.layers import LSTM, GRU\n",
    "import tensorflow as tf\n",
    "from datetime import datetime\n",
    "from time import process_time \n",
    "from sklearn.model_selection import train_test_split"
   ]
  },
  {
   "cell_type": "markdown",
   "metadata": {},
   "source": [
    "# Data Load"
   ]
  },
  {
   "cell_type": "code",
   "execution_count": 2,
   "metadata": {},
   "outputs": [
    {
     "data": {
      "text/plain": [
       "Index(['province', 'health_region', 'date_report', 'cases',\n",
       "       'cumulative_cases'],\n",
       "      dtype='object')"
      ]
     },
     "execution_count": 2,
     "metadata": {},
     "output_type": "execute_result"
    }
   ],
   "source": [
    "# load all data\n",
    "df = pd.read_csv('./cases_timeseries_hr.csv', sep=',', header=0, low_memory=False  )\n",
    "df.columns"
   ]
  },
  {
   "cell_type": "code",
   "execution_count": 3,
   "metadata": {},
   "outputs": [],
   "source": [
    " df['day']=df['date_report'].str.slice(0, 2)"
   ]
  },
  {
   "cell_type": "code",
   "execution_count": 4,
   "metadata": {},
   "outputs": [],
   "source": [
    "  df['month'] = df['date_report'].str.slice(3, 5)"
   ]
  },
  {
   "cell_type": "code",
   "execution_count": 5,
   "metadata": {},
   "outputs": [],
   "source": [
    "  df['year']=df['date_report'].str.slice(6, 10)"
   ]
  },
  {
   "cell_type": "code",
   "execution_count": 6,
   "metadata": {},
   "outputs": [],
   "source": [
    " df['case_date']= df['year']+'-'+df['month']+'-'+df['day']"
   ]
  },
  {
   "cell_type": "code",
   "execution_count": 7,
   "metadata": {},
   "outputs": [
    {
     "name": "stdout",
     "output_type": "stream",
     "text": [
      "<class 'pandas.core.frame.DataFrame'>\n",
      "RangeIndex: 32946 entries, 0 to 32945\n",
      "Data columns (total 9 columns):\n",
      " #   Column            Non-Null Count  Dtype \n",
      "---  ------            --------------  ----- \n",
      " 0   province          32946 non-null  object\n",
      " 1   health_region     32946 non-null  object\n",
      " 2   date_report       32946 non-null  object\n",
      " 3   cases             32946 non-null  int64 \n",
      " 4   cumulative_cases  32946 non-null  int64 \n",
      " 5   day               32946 non-null  object\n",
      " 6   month             32946 non-null  object\n",
      " 7   year              32946 non-null  object\n",
      " 8   case_date         32946 non-null  object\n",
      "dtypes: int64(2), object(7)\n",
      "memory usage: 2.3+ MB\n"
     ]
    }
   ],
   "source": [
    "df.info()"
   ]
  },
  {
   "cell_type": "markdown",
   "metadata": {},
   "source": [
    "# Data Preprocessing"
   ]
  },
  {
   "cell_type": "code",
   "execution_count": 8,
   "metadata": {},
   "outputs": [],
   "source": [
    "# df['date_report']= pd.to_datetime(df['date_report'],  format='%d%m%Y', errors='ignore') "
   ]
  },
  {
   "cell_type": "code",
   "execution_count": 9,
   "metadata": {},
   "outputs": [
    {
     "name": "stdout",
     "output_type": "stream",
     "text": [
      "<class 'pandas.core.frame.DataFrame'>\n",
      "RangeIndex: 32946 entries, 0 to 32945\n",
      "Data columns (total 9 columns):\n",
      " #   Column            Non-Null Count  Dtype \n",
      "---  ------            --------------  ----- \n",
      " 0   province          32946 non-null  object\n",
      " 1   health_region     32946 non-null  object\n",
      " 2   date_report       32946 non-null  object\n",
      " 3   cases             32946 non-null  int64 \n",
      " 4   cumulative_cases  32946 non-null  int64 \n",
      " 5   day               32946 non-null  object\n",
      " 6   month             32946 non-null  object\n",
      " 7   year              32946 non-null  object\n",
      " 8   case_date         32946 non-null  object\n",
      "dtypes: int64(2), object(7)\n",
      "memory usage: 2.3+ MB\n"
     ]
    }
   ],
   "source": [
    "df.info()"
   ]
  },
  {
   "cell_type": "code",
   "execution_count": 10,
   "metadata": {},
   "outputs": [
    {
     "data": {
      "text/plain": [
       "32946"
      ]
     },
     "execution_count": 10,
     "metadata": {},
     "output_type": "execute_result"
    }
   ],
   "source": [
    "len(df)"
   ]
  },
  {
   "cell_type": "code",
   "execution_count": 11,
   "metadata": {},
   "outputs": [
    {
     "data": {
      "text/html": [
       "<div>\n",
       "<style scoped>\n",
       "    .dataframe tbody tr th:only-of-type {\n",
       "        vertical-align: middle;\n",
       "    }\n",
       "\n",
       "    .dataframe tbody tr th {\n",
       "        vertical-align: top;\n",
       "    }\n",
       "\n",
       "    .dataframe thead th {\n",
       "        text-align: right;\n",
       "    }\n",
       "</style>\n",
       "<table border=\"1\" class=\"dataframe\">\n",
       "  <thead>\n",
       "    <tr style=\"text-align: right;\">\n",
       "      <th></th>\n",
       "      <th>province</th>\n",
       "      <th>health_region</th>\n",
       "      <th>date_report</th>\n",
       "      <th>cases</th>\n",
       "      <th>cumulative_cases</th>\n",
       "      <th>day</th>\n",
       "      <th>month</th>\n",
       "      <th>year</th>\n",
       "      <th>case_date</th>\n",
       "    </tr>\n",
       "  </thead>\n",
       "  <tbody>\n",
       "    <tr>\n",
       "      <th>0</th>\n",
       "      <td>Alberta</td>\n",
       "      <td>Calgary</td>\n",
       "      <td>25-01-2020</td>\n",
       "      <td>0</td>\n",
       "      <td>0</td>\n",
       "      <td>25</td>\n",
       "      <td>01</td>\n",
       "      <td>2020</td>\n",
       "      <td>2020-01-25</td>\n",
       "    </tr>\n",
       "    <tr>\n",
       "      <th>1</th>\n",
       "      <td>Alberta</td>\n",
       "      <td>Calgary</td>\n",
       "      <td>26-01-2020</td>\n",
       "      <td>0</td>\n",
       "      <td>0</td>\n",
       "      <td>26</td>\n",
       "      <td>01</td>\n",
       "      <td>2020</td>\n",
       "      <td>2020-01-26</td>\n",
       "    </tr>\n",
       "    <tr>\n",
       "      <th>2</th>\n",
       "      <td>Alberta</td>\n",
       "      <td>Calgary</td>\n",
       "      <td>27-01-2020</td>\n",
       "      <td>0</td>\n",
       "      <td>0</td>\n",
       "      <td>27</td>\n",
       "      <td>01</td>\n",
       "      <td>2020</td>\n",
       "      <td>2020-01-27</td>\n",
       "    </tr>\n",
       "    <tr>\n",
       "      <th>3</th>\n",
       "      <td>Alberta</td>\n",
       "      <td>Calgary</td>\n",
       "      <td>28-01-2020</td>\n",
       "      <td>0</td>\n",
       "      <td>0</td>\n",
       "      <td>28</td>\n",
       "      <td>01</td>\n",
       "      <td>2020</td>\n",
       "      <td>2020-01-28</td>\n",
       "    </tr>\n",
       "    <tr>\n",
       "      <th>4</th>\n",
       "      <td>Alberta</td>\n",
       "      <td>Calgary</td>\n",
       "      <td>29-01-2020</td>\n",
       "      <td>0</td>\n",
       "      <td>0</td>\n",
       "      <td>29</td>\n",
       "      <td>01</td>\n",
       "      <td>2020</td>\n",
       "      <td>2020-01-29</td>\n",
       "    </tr>\n",
       "    <tr>\n",
       "      <th>...</th>\n",
       "      <td>...</td>\n",
       "      <td>...</td>\n",
       "      <td>...</td>\n",
       "      <td>...</td>\n",
       "      <td>...</td>\n",
       "      <td>...</td>\n",
       "      <td>...</td>\n",
       "      <td>...</td>\n",
       "      <td>...</td>\n",
       "    </tr>\n",
       "    <tr>\n",
       "      <th>32941</th>\n",
       "      <td>Yukon</td>\n",
       "      <td>Yukon</td>\n",
       "      <td>08-12-2020</td>\n",
       "      <td>1</td>\n",
       "      <td>58</td>\n",
       "      <td>08</td>\n",
       "      <td>12</td>\n",
       "      <td>2020</td>\n",
       "      <td>2020-12-08</td>\n",
       "    </tr>\n",
       "    <tr>\n",
       "      <th>32942</th>\n",
       "      <td>Yukon</td>\n",
       "      <td>Yukon</td>\n",
       "      <td>09-12-2020</td>\n",
       "      <td>0</td>\n",
       "      <td>58</td>\n",
       "      <td>09</td>\n",
       "      <td>12</td>\n",
       "      <td>2020</td>\n",
       "      <td>2020-12-09</td>\n",
       "    </tr>\n",
       "    <tr>\n",
       "      <th>32943</th>\n",
       "      <td>Yukon</td>\n",
       "      <td>Yukon</td>\n",
       "      <td>10-12-2020</td>\n",
       "      <td>0</td>\n",
       "      <td>58</td>\n",
       "      <td>10</td>\n",
       "      <td>12</td>\n",
       "      <td>2020</td>\n",
       "      <td>2020-12-10</td>\n",
       "    </tr>\n",
       "    <tr>\n",
       "      <th>32944</th>\n",
       "      <td>Yukon</td>\n",
       "      <td>Yukon</td>\n",
       "      <td>11-12-2020</td>\n",
       "      <td>0</td>\n",
       "      <td>58</td>\n",
       "      <td>11</td>\n",
       "      <td>12</td>\n",
       "      <td>2020</td>\n",
       "      <td>2020-12-11</td>\n",
       "    </tr>\n",
       "    <tr>\n",
       "      <th>32945</th>\n",
       "      <td>Yukon</td>\n",
       "      <td>Yukon</td>\n",
       "      <td>12-12-2020</td>\n",
       "      <td>0</td>\n",
       "      <td>58</td>\n",
       "      <td>12</td>\n",
       "      <td>12</td>\n",
       "      <td>2020</td>\n",
       "      <td>2020-12-12</td>\n",
       "    </tr>\n",
       "  </tbody>\n",
       "</table>\n",
       "<p>32946 rows × 9 columns</p>\n",
       "</div>"
      ],
      "text/plain": [
       "      province health_region date_report  cases  cumulative_cases day month  \\\n",
       "0      Alberta       Calgary  25-01-2020      0                 0  25    01   \n",
       "1      Alberta       Calgary  26-01-2020      0                 0  26    01   \n",
       "2      Alberta       Calgary  27-01-2020      0                 0  27    01   \n",
       "3      Alberta       Calgary  28-01-2020      0                 0  28    01   \n",
       "4      Alberta       Calgary  29-01-2020      0                 0  29    01   \n",
       "...        ...           ...         ...    ...               ...  ..   ...   \n",
       "32941    Yukon         Yukon  08-12-2020      1                58  08    12   \n",
       "32942    Yukon         Yukon  09-12-2020      0                58  09    12   \n",
       "32943    Yukon         Yukon  10-12-2020      0                58  10    12   \n",
       "32944    Yukon         Yukon  11-12-2020      0                58  11    12   \n",
       "32945    Yukon         Yukon  12-12-2020      0                58  12    12   \n",
       "\n",
       "       year   case_date  \n",
       "0      2020  2020-01-25  \n",
       "1      2020  2020-01-26  \n",
       "2      2020  2020-01-27  \n",
       "3      2020  2020-01-28  \n",
       "4      2020  2020-01-29  \n",
       "...     ...         ...  \n",
       "32941  2020  2020-12-08  \n",
       "32942  2020  2020-12-09  \n",
       "32943  2020  2020-12-10  \n",
       "32944  2020  2020-12-11  \n",
       "32945  2020  2020-12-12  \n",
       "\n",
       "[32946 rows x 9 columns]"
      ]
     },
     "execution_count": 11,
     "metadata": {},
     "output_type": "execute_result"
    }
   ],
   "source": [
    "df"
   ]
  },
  {
   "cell_type": "code",
   "execution_count": 12,
   "metadata": {},
   "outputs": [],
   "source": [
    "df = df.set_index('case_date')"
   ]
  },
  {
   "cell_type": "code",
   "execution_count": 13,
   "metadata": {},
   "outputs": [
    {
     "data": {
      "text/plain": [
       "Ontario          11305\n",
       "Quebec            6137\n",
       "New Brunswick     2584\n",
       "Saskatchewan      2261\n",
       "BC                1938\n",
       "Alberta           1938\n",
       "Manitoba          1938\n",
       "Nova Scotia       1615\n",
       "NL                1615\n",
       "Yukon              323\n",
       "NWT                323\n",
       "Nunavut            323\n",
       "Repatriated        323\n",
       "PEI                323\n",
       "Name: province, dtype: int64"
      ]
     },
     "execution_count": 13,
     "metadata": {},
     "output_type": "execute_result"
    }
   ],
   "source": [
    "df['province'].value_counts()"
   ]
  },
  {
   "cell_type": "code",
   "execution_count": 14,
   "metadata": {},
   "outputs": [],
   "source": [
    "df = df.query('province ==\"Ontario\"')"
   ]
  },
  {
   "cell_type": "code",
   "execution_count": 15,
   "metadata": {},
   "outputs": [],
   "source": [
    "# df"
   ]
  },
  {
   "cell_type": "code",
   "execution_count": 16,
   "metadata": {},
   "outputs": [],
   "source": [
    "df_for_cls=df[['cases' ]]"
   ]
  },
  {
   "cell_type": "code",
   "execution_count": null,
   "metadata": {},
   "outputs": [],
   "source": [
    " "
   ]
  },
  {
   "cell_type": "code",
   "execution_count": 17,
   "metadata": {},
   "outputs": [],
   "source": [
    "# df_for_cls.query('date_report==\"03-12-2020\"')"
   ]
  },
  {
   "cell_type": "code",
   "execution_count": 18,
   "metadata": {},
   "outputs": [],
   "source": [
    "df_for_cls= df_for_cls.groupby(['case_date'])['cases'].sum().reset_index()\n"
   ]
  },
  {
   "cell_type": "code",
   "execution_count": 19,
   "metadata": {},
   "outputs": [],
   "source": [
    "# df_for_cls['date_report']= pd.to_datetime(df_for_cls['date_report'],  format='%d%m%Y', errors='ignore') "
   ]
  },
  {
   "cell_type": "code",
   "execution_count": 20,
   "metadata": {},
   "outputs": [],
   "source": [
    "df_for_cls = df_for_cls.set_index('case_date')\n",
    " "
   ]
  },
  {
   "cell_type": "code",
   "execution_count": 21,
   "metadata": {},
   "outputs": [
    {
     "name": "stdout",
     "output_type": "stream",
     "text": [
      "<class 'pandas.core.frame.DataFrame'>\n",
      "Index: 323 entries, 2020-01-25 to 2020-12-12\n",
      "Data columns (total 1 columns):\n",
      " #   Column  Non-Null Count  Dtype\n",
      "---  ------  --------------  -----\n",
      " 0   cases   323 non-null    int64\n",
      "dtypes: int64(1)\n",
      "memory usage: 5.0+ KB\n"
     ]
    }
   ],
   "source": [
    "df_for_cls.info()"
   ]
  },
  {
   "cell_type": "markdown",
   "metadata": {},
   "source": [
    "# feature engineering"
   ]
  },
  {
   "cell_type": "code",
   "execution_count": 22,
   "metadata": {},
   "outputs": [],
   "source": [
    "df_for_cls=df_for_cls[['cases' ]]"
   ]
  },
  {
   "cell_type": "code",
   "execution_count": 23,
   "metadata": {},
   "outputs": [],
   "source": [
    "# df_for_cls"
   ]
  },
  {
   "cell_type": "code",
   "execution_count": 24,
   "metadata": {},
   "outputs": [],
   "source": [
    "def create_dataset(dataset):\n",
    "    dataX,dataY=[],[]\n",
    "    time_step =7\n",
    "    for i in range(len(dataset)-time_step):\n",
    "#         print(i)\n",
    "        data=[] \n",
    "#         data=  [1 if dataset['Hours'][i]==k else 0  for k in range(0,24)]  # One-Hot Encoding\n",
    " \n",
    " \n",
    "        load= dataset['cases'][i:(i+time_step)]\n",
    "        data.extend(list(load))\n",
    "        \n",
    "        data.append( dataset['cases'][(i+time_step)])\n",
    "        label =  dataset['cases'][(i+time_step)] \n",
    "#         print(label)\n",
    "\n",
    "        dataX.append(data)\n",
    " \n",
    "    dX = pd.DataFrame(dataX, columns = [  'load0', 'load1', 'load2', 'load3', 'load4', 'load5', 'load6','label_value'])\n",
    "#     dY = pd.DataFrame(dataY,  columns = ['label'])\n",
    "     \n",
    "    return dX #, dY\n",
    "\n",
    "\n",
    " \n",
    "#     return numpy.array(dataX),numpy.array(dataY)"
   ]
  },
  {
   "cell_type": "code",
   "execution_count": 25,
   "metadata": {},
   "outputs": [],
   "source": [
    "data_X  = create_dataset(df_for_cls)"
   ]
  },
  {
   "cell_type": "code",
   "execution_count": 26,
   "metadata": {},
   "outputs": [],
   "source": [
    "# data_X"
   ]
  },
  {
   "cell_type": "code",
   "execution_count": 27,
   "metadata": {},
   "outputs": [],
   "source": [
    "data_X.to_csv('data/data_X_Without_over_sampling1.csv', index = False) "
   ]
  },
  {
   "cell_type": "code",
   "execution_count": 28,
   "metadata": {},
   "outputs": [],
   "source": [
    "data = data_X"
   ]
  },
  {
   "cell_type": "code",
   "execution_count": 29,
   "metadata": {},
   "outputs": [],
   "source": [
    "# # normalizing input features\n",
    "# scaler = MinMaxScaler(feature_range=(0, 1))\n",
    "# data = scaler.fit_transform(data)\n",
    "# data =pd.DataFrame(data)"
   ]
  },
  {
   "cell_type": "code",
   "execution_count": 30,
   "metadata": {},
   "outputs": [],
   "source": [
    "X = data.iloc[:,0:7] \n",
    "Y = data.iloc[:,7:8]"
   ]
  },
  {
   "cell_type": "code",
   "execution_count": 31,
   "metadata": {},
   "outputs": [
    {
     "data": {
      "text/html": [
       "<div>\n",
       "<style scoped>\n",
       "    .dataframe tbody tr th:only-of-type {\n",
       "        vertical-align: middle;\n",
       "    }\n",
       "\n",
       "    .dataframe tbody tr th {\n",
       "        vertical-align: top;\n",
       "    }\n",
       "\n",
       "    .dataframe thead th {\n",
       "        text-align: right;\n",
       "    }\n",
       "</style>\n",
       "<table border=\"1\" class=\"dataframe\">\n",
       "  <thead>\n",
       "    <tr style=\"text-align: right;\">\n",
       "      <th></th>\n",
       "      <th>load0</th>\n",
       "      <th>load1</th>\n",
       "      <th>load2</th>\n",
       "      <th>load3</th>\n",
       "      <th>load4</th>\n",
       "      <th>load5</th>\n",
       "      <th>load6</th>\n",
       "    </tr>\n",
       "  </thead>\n",
       "  <tbody>\n",
       "    <tr>\n",
       "      <th>0</th>\n",
       "      <td>1</td>\n",
       "      <td>0</td>\n",
       "      <td>1</td>\n",
       "      <td>0</td>\n",
       "      <td>0</td>\n",
       "      <td>0</td>\n",
       "      <td>1</td>\n",
       "    </tr>\n",
       "    <tr>\n",
       "      <th>1</th>\n",
       "      <td>0</td>\n",
       "      <td>1</td>\n",
       "      <td>0</td>\n",
       "      <td>0</td>\n",
       "      <td>0</td>\n",
       "      <td>1</td>\n",
       "      <td>0</td>\n",
       "    </tr>\n",
       "    <tr>\n",
       "      <th>2</th>\n",
       "      <td>1</td>\n",
       "      <td>0</td>\n",
       "      <td>0</td>\n",
       "      <td>0</td>\n",
       "      <td>1</td>\n",
       "      <td>0</td>\n",
       "      <td>0</td>\n",
       "    </tr>\n",
       "    <tr>\n",
       "      <th>3</th>\n",
       "      <td>0</td>\n",
       "      <td>0</td>\n",
       "      <td>0</td>\n",
       "      <td>1</td>\n",
       "      <td>0</td>\n",
       "      <td>0</td>\n",
       "      <td>0</td>\n",
       "    </tr>\n",
       "    <tr>\n",
       "      <th>4</th>\n",
       "      <td>0</td>\n",
       "      <td>0</td>\n",
       "      <td>1</td>\n",
       "      <td>0</td>\n",
       "      <td>0</td>\n",
       "      <td>0</td>\n",
       "      <td>0</td>\n",
       "    </tr>\n",
       "    <tr>\n",
       "      <th>...</th>\n",
       "      <td>...</td>\n",
       "      <td>...</td>\n",
       "      <td>...</td>\n",
       "      <td>...</td>\n",
       "      <td>...</td>\n",
       "      <td>...</td>\n",
       "      <td>...</td>\n",
       "    </tr>\n",
       "    <tr>\n",
       "      <th>311</th>\n",
       "      <td>2049</td>\n",
       "      <td>1813</td>\n",
       "      <td>1537</td>\n",
       "      <td>1935</td>\n",
       "      <td>1744</td>\n",
       "      <td>1928</td>\n",
       "      <td>1983</td>\n",
       "    </tr>\n",
       "    <tr>\n",
       "      <th>312</th>\n",
       "      <td>1813</td>\n",
       "      <td>1537</td>\n",
       "      <td>1935</td>\n",
       "      <td>1744</td>\n",
       "      <td>1928</td>\n",
       "      <td>1983</td>\n",
       "      <td>1898</td>\n",
       "    </tr>\n",
       "    <tr>\n",
       "      <th>313</th>\n",
       "      <td>1537</td>\n",
       "      <td>1935</td>\n",
       "      <td>1744</td>\n",
       "      <td>1928</td>\n",
       "      <td>1983</td>\n",
       "      <td>1898</td>\n",
       "      <td>1951</td>\n",
       "    </tr>\n",
       "    <tr>\n",
       "      <th>314</th>\n",
       "      <td>1935</td>\n",
       "      <td>1744</td>\n",
       "      <td>1928</td>\n",
       "      <td>1983</td>\n",
       "      <td>1898</td>\n",
       "      <td>1951</td>\n",
       "      <td>1947</td>\n",
       "    </tr>\n",
       "    <tr>\n",
       "      <th>315</th>\n",
       "      <td>1744</td>\n",
       "      <td>1928</td>\n",
       "      <td>1983</td>\n",
       "      <td>1898</td>\n",
       "      <td>1951</td>\n",
       "      <td>1947</td>\n",
       "      <td>1774</td>\n",
       "    </tr>\n",
       "  </tbody>\n",
       "</table>\n",
       "<p>316 rows × 7 columns</p>\n",
       "</div>"
      ],
      "text/plain": [
       "     load0  load1  load2  load3  load4  load5  load6\n",
       "0        1      0      1      0      0      0      1\n",
       "1        0      1      0      0      0      1      0\n",
       "2        1      0      0      0      1      0      0\n",
       "3        0      0      0      1      0      0      0\n",
       "4        0      0      1      0      0      0      0\n",
       "..     ...    ...    ...    ...    ...    ...    ...\n",
       "311   2049   1813   1537   1935   1744   1928   1983\n",
       "312   1813   1537   1935   1744   1928   1983   1898\n",
       "313   1537   1935   1744   1928   1983   1898   1951\n",
       "314   1935   1744   1928   1983   1898   1951   1947\n",
       "315   1744   1928   1983   1898   1951   1947   1774\n",
       "\n",
       "[316 rows x 7 columns]"
      ]
     },
     "execution_count": 31,
     "metadata": {},
     "output_type": "execute_result"
    }
   ],
   "source": [
    "X"
   ]
  },
  {
   "cell_type": "code",
   "execution_count": 32,
   "metadata": {},
   "outputs": [],
   "source": [
    "# # normalizing input features\n",
    "# scaler = MinMaxScaler(feature_range=(0, 1))\n",
    "# X = scaler.fit_transform(X)\n",
    "# X =pd.DataFrame(X)"
   ]
  },
  {
   "cell_type": "code",
   "execution_count": 33,
   "metadata": {},
   "outputs": [],
   "source": [
    "X.to_csv('data/X_after_custom_sampling_Without_scaler1.csv', index = False) \n",
    "Y.to_csv('data/Y_after_custom_sampling_Without_scaler1.csv', index = False) "
   ]
  },
  {
   "cell_type": "code",
   "execution_count": null,
   "metadata": {},
   "outputs": [],
   "source": []
  },
  {
   "cell_type": "code",
   "execution_count": 34,
   "metadata": {},
   "outputs": [],
   "source": [
    "X_train, X_test, y_train, y_test = train_test_split(X, Y, test_size=0.05, shuffle = False, stratify = None)"
   ]
  },
  {
   "cell_type": "code",
   "execution_count": 35,
   "metadata": {},
   "outputs": [
    {
     "name": "stdout",
     "output_type": "stream",
     "text": [
      "X_train.shape:  (300, 7)\n",
      "y_train.shape:  (300, 1)\n",
      "X_test.shape:  (16, 7)\n",
      "y_test.shape:  (16, 1)\n"
     ]
    }
   ],
   "source": [
    "print(\"X_train.shape: \", X_train.shape)\n",
    "print(\"y_train.shape: \", y_train.shape)\n",
    "\n",
    "print(\"X_test.shape: \", X_test.shape)\n",
    "print(\"y_test.shape: \", y_test.shape)"
   ]
  },
  {
   "cell_type": "code",
   "execution_count": 36,
   "metadata": {},
   "outputs": [
    {
     "data": {
      "text/html": [
       "<div>\n",
       "<style scoped>\n",
       "    .dataframe tbody tr th:only-of-type {\n",
       "        vertical-align: middle;\n",
       "    }\n",
       "\n",
       "    .dataframe tbody tr th {\n",
       "        vertical-align: top;\n",
       "    }\n",
       "\n",
       "    .dataframe thead th {\n",
       "        text-align: right;\n",
       "    }\n",
       "</style>\n",
       "<table border=\"1\" class=\"dataframe\">\n",
       "  <thead>\n",
       "    <tr style=\"text-align: right;\">\n",
       "      <th></th>\n",
       "      <th>label_value</th>\n",
       "    </tr>\n",
       "  </thead>\n",
       "  <tbody>\n",
       "    <tr>\n",
       "      <th>300</th>\n",
       "      <td>1843</td>\n",
       "    </tr>\n",
       "    <tr>\n",
       "      <th>301</th>\n",
       "      <td>1700</td>\n",
       "    </tr>\n",
       "    <tr>\n",
       "      <th>302</th>\n",
       "      <td>1595</td>\n",
       "    </tr>\n",
       "    <tr>\n",
       "      <th>303</th>\n",
       "      <td>1807</td>\n",
       "    </tr>\n",
       "    <tr>\n",
       "      <th>304</th>\n",
       "      <td>2049</td>\n",
       "    </tr>\n",
       "    <tr>\n",
       "      <th>305</th>\n",
       "      <td>1813</td>\n",
       "    </tr>\n",
       "    <tr>\n",
       "      <th>306</th>\n",
       "      <td>1537</td>\n",
       "    </tr>\n",
       "    <tr>\n",
       "      <th>307</th>\n",
       "      <td>1935</td>\n",
       "    </tr>\n",
       "    <tr>\n",
       "      <th>308</th>\n",
       "      <td>1744</td>\n",
       "    </tr>\n",
       "    <tr>\n",
       "      <th>309</th>\n",
       "      <td>1928</td>\n",
       "    </tr>\n",
       "    <tr>\n",
       "      <th>310</th>\n",
       "      <td>1983</td>\n",
       "    </tr>\n",
       "    <tr>\n",
       "      <th>311</th>\n",
       "      <td>1898</td>\n",
       "    </tr>\n",
       "    <tr>\n",
       "      <th>312</th>\n",
       "      <td>1951</td>\n",
       "    </tr>\n",
       "    <tr>\n",
       "      <th>313</th>\n",
       "      <td>1947</td>\n",
       "    </tr>\n",
       "    <tr>\n",
       "      <th>314</th>\n",
       "      <td>1774</td>\n",
       "    </tr>\n",
       "    <tr>\n",
       "      <th>315</th>\n",
       "      <td>1759</td>\n",
       "    </tr>\n",
       "  </tbody>\n",
       "</table>\n",
       "</div>"
      ],
      "text/plain": [
       "     label_value\n",
       "300         1843\n",
       "301         1700\n",
       "302         1595\n",
       "303         1807\n",
       "304         2049\n",
       "305         1813\n",
       "306         1537\n",
       "307         1935\n",
       "308         1744\n",
       "309         1928\n",
       "310         1983\n",
       "311         1898\n",
       "312         1951\n",
       "313         1947\n",
       "314         1774\n",
       "315         1759"
      ]
     },
     "execution_count": 36,
     "metadata": {},
     "output_type": "execute_result"
    }
   ],
   "source": [
    "y_test"
   ]
  },
  {
   "cell_type": "markdown",
   "metadata": {},
   "source": [
    " # Implement  Machine Learning Algorithm"
   ]
  },
  {
   "cell_type": "markdown",
   "metadata": {},
   "source": [
    "# SVM"
   ]
  },
  {
   "cell_type": "code",
   "execution_count": 37,
   "metadata": {},
   "outputs": [],
   "source": [
    "from sklearn.linear_model import LogisticRegression\n",
    "from sklearn import svm"
   ]
  },
  {
   "cell_type": "code",
   "execution_count": 38,
   "metadata": {},
   "outputs": [
    {
     "name": "stdout",
     "output_type": "stream",
     "text": [
      "Elapsed time: 3.0 3.0\n",
      "Elapsed time during the whole program in seconds: 0.0\n"
     ]
    },
    {
     "name": "stderr",
     "output_type": "stream",
     "text": [
      "C:\\Users\\smr99\\anaconda3\\envs\\pd\\lib\\site-packages\\sklearn\\utils\\validation.py:73: DataConversionWarning: A column-vector y was passed when a 1d array was expected. Please change the shape of y to (n_samples, ), for example using ravel().\n",
      "  return f(**kwargs)\n"
     ]
    }
   ],
   "source": [
    "t1_start = process_time()  \n",
    "SVM = svm.SVR(kernel='sigmoid', C=150,gamma=0.1, epsilon=0.1,).fit(X_train, y_train)\n",
    "t1_stop = process_time() \n",
    "SVM_process_time=  t1_stop-t1_start\n",
    "print(\"Elapsed time:\", t1_stop, t1_start)  \n",
    "print(\"Elapsed time during the whole program in seconds:\", \n",
    "                                         SVM_process_time)  \n",
    "y_pred  = SVM.predict(X_test)"
   ]
  },
  {
   "cell_type": "code",
   "execution_count": 39,
   "metadata": {},
   "outputs": [
    {
     "name": "stdout",
     "output_type": "stream",
     "text": [
      "MSE: 2480595.5130565795\n",
      "RMSE: 1574.9906390377625\n"
     ]
    }
   ],
   "source": [
    "# score = SVM.score(X_test,y_test)\n",
    "# print(\"R-squared:\", score)\n",
    "SVM_MSE  = mean_squared_error(y_test, y_pred, squared=True)\n",
    "SVM_RMSE  = mean_squared_error(y_test, y_pred, squared=False)\n",
    "\n",
    "print(\"MSE:\", SVM_MSE)\n",
    "print(\"RMSE:\", SVM_RMSE)"
   ]
  },
  {
   "cell_type": "code",
   "execution_count": 41,
   "metadata": {},
   "outputs": [
    {
     "data": {
      "image/png": "[encoded data removed]",
      "text/plain": [
       "<Figure size 864x576 with 1 Axes>"
      ]
     },
     "metadata": {
      "needs_background": "light"
     },
     "output_type": "display_data"
    }
   ],
   "source": [
    "pyplot.figure(figsize=(12,8))\n",
    "aa=[x for x in range(15)]\n",
    "pyplot.plot(aa, y_test[:15], marker='.', label=\"actual\")\n",
    "pyplot.plot(aa, y_pred[:15], 'r', label=\"prediction\")\n",
    "pyplot.ylabel('Cases', size=15)\n",
    "pyplot.xlabel('Time step', size=15)\n",
    "pyplot.legend(fontsize=15)\n",
    "pyplot.show()"
   ]
  },
  {
   "cell_type": "markdown",
   "metadata": {},
   "source": [
    "# LogisticRegression"
   ]
  },
  {
   "cell_type": "code",
   "execution_count": 42,
   "metadata": {},
   "outputs": [
    {
     "name": "stderr",
     "output_type": "stream",
     "text": [
      "C:\\Users\\smr99\\anaconda3\\envs\\pd\\lib\\site-packages\\sklearn\\utils\\validation.py:73: DataConversionWarning: A column-vector y was passed when a 1d array was expected. Please change the shape of y to (n_samples, ), for example using ravel().\n",
      "  return f(**kwargs)\n"
     ]
    },
    {
     "name": "stdout",
     "output_type": "stream",
     "text": [
      "Elapsed time: 29.84375 3.28125\n",
      "Elapsed time during the whole program in seconds: 26.5625\n"
     ]
    },
    {
     "name": "stderr",
     "output_type": "stream",
     "text": [
      "C:\\Users\\smr99\\anaconda3\\envs\\pd\\lib\\site-packages\\sklearn\\utils\\optimize.py:212: ConvergenceWarning: newton-cg failed to converge. Increase the number of iterations.\n",
      "  \"number of iterations.\", ConvergenceWarning)\n"
     ]
    }
   ],
   "source": [
    "t1_start = process_time()  \n",
    "LR = LogisticRegression(C=300 ,     random_state=None, solver='newton-cg'  ).fit(X_train, y_train)\n",
    "t1_stop = process_time() \n",
    "LR_process_time=  t1_stop-t1_start\n",
    "print(\"Elapsed time:\", t1_stop, t1_start)  \n",
    "print(\"Elapsed time during the whole program in seconds:\", \n",
    "                                         LR_process_time)  \n",
    "y_pred = LR.predict(X_test)\n",
    "# round(LR.score(X_testing,Y_testing), 4)"
   ]
  },
  {
   "cell_type": "code",
   "execution_count": 43,
   "metadata": {},
   "outputs": [
    {
     "name": "stdout",
     "output_type": "stream",
     "text": [
      "MSE: 1758198.625\n",
      "RMSE: 1325.9708235854966\n"
     ]
    }
   ],
   "source": [
    "LR_MSE  = mean_squared_error(y_test, y_pred, squared=True)\n",
    "LR_RMSE  = mean_squared_error(y_test, y_pred, squared=False)\n",
    "\n",
    "print(\"MSE:\", LR_MSE)\n",
    "print(\"RMSE:\", LR_RMSE)"
   ]
  },
  {
   "cell_type": "code",
   "execution_count": 44,
   "metadata": {},
   "outputs": [
    {
     "data": {
      "image/png": "[encoded data removed]",
      "text/plain": [
       "<Figure size 864x576 with 1 Axes>"
      ]
     },
     "metadata": {
      "needs_background": "light"
     },
     "output_type": "display_data"
    }
   ],
   "source": [
    "pyplot.figure(figsize=(12,8))\n",
    "aa=[x for x in range(15)]\n",
    "pyplot.plot(aa, y_test[:15], marker='.', label=\"actual\")\n",
    "pyplot.plot(aa, y_pred[:15], 'r', label=\"prediction\")\n",
    "pyplot.ylabel('Cases', size=15)\n",
    "pyplot.xlabel('Time step', size=15)\n",
    "pyplot.legend(fontsize=15)\n",
    "pyplot.show()"
   ]
  },
  {
   "cell_type": "code",
   "execution_count": null,
   "metadata": {},
   "outputs": [],
   "source": []
  },
  {
   "cell_type": "markdown",
   "metadata": {},
   "source": [
    "# GradientBoostingRegressor"
   ]
  },
  {
   "cell_type": "code",
   "execution_count": 91,
   "metadata": {},
   "outputs": [],
   "source": [
    "from sklearn.ensemble import GradientBoostingRegressor, RandomForestRegressor\n"
   ]
  },
  {
   "cell_type": "code",
   "execution_count": 92,
   "metadata": {},
   "outputs": [
    {
     "name": "stderr",
     "output_type": "stream",
     "text": [
      "C:\\Users\\smr99\\anaconda3\\envs\\pd\\lib\\site-packages\\sklearn\\utils\\validation.py:73: DataConversionWarning: A column-vector y was passed when a 1d array was expected. Please change the shape of y to (n_samples, ), for example using ravel().\n",
      "  return f(**kwargs)\n"
     ]
    },
    {
     "name": "stdout",
     "output_type": "stream",
     "text": [
      "Elapsed time: 146.703125 146.1875\n",
      "Elapsed time during the whole program in seconds: 0.515625\n"
     ]
    }
   ],
   "source": [
    "t1_start = process_time()\n",
    "gbr = GradientBoostingRegressor(n_estimators=1000, random_state=0)\n",
    "gbr.fit(X_train, y_train )\n",
    "t1_stop = process_time() \n",
    "gbr_process_time=  t1_stop-t1_start\n",
    "print(\"Elapsed time:\", t1_stop, t1_start)  \n",
    "print(\"Elapsed time during the whole program in seconds:\", \n",
    "                                         gbr_process_time)  \n",
    "\n",
    " "
   ]
  },
  {
   "cell_type": "code",
   "execution_count": 93,
   "metadata": {},
   "outputs": [],
   "source": [
    "y_pred = gbr.predict(X_test)"
   ]
  },
  {
   "cell_type": "code",
   "execution_count": 94,
   "metadata": {},
   "outputs": [
    {
     "name": "stdout",
     "output_type": "stream",
     "text": [
      "MSE: 140158.58237651782\n",
      "RMSE: 374.3775933152488\n"
     ]
    }
   ],
   "source": [
    "gbr_MSE  = mean_squared_error(y_test, y_pred, squared=True)\n",
    "gbr_RMSE  = mean_squared_error(y_test, y_pred, squared=False)\n",
    "\n",
    "print(\"MSE:\", gbr_MSE)\n",
    "print(\"RMSE:\", gbr_RMSE)"
   ]
  },
  {
   "cell_type": "code",
   "execution_count": 49,
   "metadata": {},
   "outputs": [
    {
     "data": {
      "image/png": "[encoded data removed]",
      "text/plain": [
       "<Figure size 864x576 with 1 Axes>"
      ]
     },
     "metadata": {
      "needs_background": "light"
     },
     "output_type": "display_data"
    }
   ],
   "source": [
    "pyplot.figure(figsize=(12,8))\n",
    "aa=[x for x in range(15)]\n",
    "pyplot.plot(aa, y_test[:15], marker='.', label=\"actual\")\n",
    "pyplot.plot(aa, y_pred[:15], 'r', label=\"prediction\")\n",
    "pyplot.ylabel('Cases', size=15)\n",
    "pyplot.xlabel('Time step', size=15)\n",
    "pyplot.legend(fontsize=15)\n",
    "pyplot.show()"
   ]
  },
  {
   "cell_type": "markdown",
   "metadata": {},
   "source": [
    "# RandomForestRegressor"
   ]
  },
  {
   "cell_type": "code",
   "execution_count": 50,
   "metadata": {},
   "outputs": [
    {
     "name": "stderr",
     "output_type": "stream",
     "text": [
      "C:\\Users\\smr99\\anaconda3\\envs\\pd\\lib\\site-packages\\ipykernel_launcher.py:3: DataConversionWarning: A column-vector y was passed when a 1d array was expected. Please change the shape of y to (n_samples,), for example using ravel().\n",
      "  This is separate from the ipykernel package so we can avoid doing imports until\n"
     ]
    },
    {
     "name": "stdout",
     "output_type": "stream",
     "text": [
      "Elapsed time: 35.90625 31.40625\n",
      "Elapsed time during the whole program in seconds: 4.5\n"
     ]
    }
   ],
   "source": [
    "t1_start = process_time()\n",
    "regr = RandomForestRegressor(n_estimators=1000, criterion='mae', max_depth=100 , random_state=0)\n",
    "regr.fit(X_train, y_train)\n",
    "t1_stop = process_time() \n",
    "regr_process_time=  t1_stop-t1_start\n",
    "print(\"Elapsed time:\", t1_stop, t1_start)  \n",
    "print(\"Elapsed time during the whole program in seconds:\", \n",
    "                                         regr_process_time)  \n",
    " "
   ]
  },
  {
   "cell_type": "code",
   "execution_count": 51,
   "metadata": {},
   "outputs": [],
   "source": [
    "y_pred = regr.predict(X_test)"
   ]
  },
  {
   "cell_type": "code",
   "execution_count": 52,
   "metadata": {},
   "outputs": [
    {
     "name": "stdout",
     "output_type": "stream",
     "text": [
      "MSE: 193525.16868918753\n",
      "RMSE: 439.9149562008406\n"
     ]
    }
   ],
   "source": [
    "regr_MSE  = mean_squared_error(y_test, y_pred, squared=True)\n",
    "regr_RMSE  = mean_squared_error(y_test, y_pred, squared=False)\n",
    "\n",
    "print(\"MSE:\", regr_MSE)\n",
    "print(\"RMSE:\", regr_RMSE)"
   ]
  },
  {
   "cell_type": "code",
   "execution_count": 53,
   "metadata": {},
   "outputs": [
    {
     "data": {
      "image/png": "[encoded data removed]",
      "text/plain": [
       "<Figure size 432x288 with 1 Axes>"
      ]
     },
     "metadata": {
      "needs_background": "light"
     },
     "output_type": "display_data"
    }
   ],
   "source": [
    "pyplot.figure(figsize=(6,4))\n",
    "aa=[x for x in range(15)]\n",
    "pyplot.plot(aa, y_test[:15], marker='.', label=\"actual cases\")\n",
    "pyplot.plot(aa, y_pred[:15], 'r', label=\"prediction cases\")\n",
    "pyplot.ylabel('Cases', size=15)\n",
    "pyplot.xlabel('Time step', size=15)\n",
    "pyplot.legend(fontsize=15)\n",
    "pyplot.show()"
   ]
  },
  {
   "cell_type": "code",
   "execution_count": null,
   "metadata": {},
   "outputs": [],
   "source": [
    " \n",
    "\n",
    " "
   ]
  },
  {
   "cell_type": "code",
   "execution_count": null,
   "metadata": {},
   "outputs": [],
   "source": []
  },
  {
   "cell_type": "code",
   "execution_count": 54,
   "metadata": {},
   "outputs": [
    {
     "data": {
      "text/html": [
       "<div>\n",
       "<style scoped>\n",
       "    .dataframe tbody tr th:only-of-type {\n",
       "        vertical-align: middle;\n",
       "    }\n",
       "\n",
       "    .dataframe tbody tr th {\n",
       "        vertical-align: top;\n",
       "    }\n",
       "\n",
       "    .dataframe thead th {\n",
       "        text-align: right;\n",
       "    }\n",
       "</style>\n",
       "<table border=\"1\" class=\"dataframe\">\n",
       "  <thead>\n",
       "    <tr style=\"text-align: right;\">\n",
       "      <th></th>\n",
       "      <th>load0</th>\n",
       "      <th>load1</th>\n",
       "      <th>load2</th>\n",
       "      <th>load3</th>\n",
       "      <th>load4</th>\n",
       "      <th>load5</th>\n",
       "      <th>load6</th>\n",
       "    </tr>\n",
       "  </thead>\n",
       "  <tbody>\n",
       "    <tr>\n",
       "      <th>0</th>\n",
       "      <td>1</td>\n",
       "      <td>0</td>\n",
       "      <td>1</td>\n",
       "      <td>0</td>\n",
       "      <td>0</td>\n",
       "      <td>0</td>\n",
       "      <td>1</td>\n",
       "    </tr>\n",
       "    <tr>\n",
       "      <th>1</th>\n",
       "      <td>0</td>\n",
       "      <td>1</td>\n",
       "      <td>0</td>\n",
       "      <td>0</td>\n",
       "      <td>0</td>\n",
       "      <td>1</td>\n",
       "      <td>0</td>\n",
       "    </tr>\n",
       "    <tr>\n",
       "      <th>2</th>\n",
       "      <td>1</td>\n",
       "      <td>0</td>\n",
       "      <td>0</td>\n",
       "      <td>0</td>\n",
       "      <td>1</td>\n",
       "      <td>0</td>\n",
       "      <td>0</td>\n",
       "    </tr>\n",
       "    <tr>\n",
       "      <th>3</th>\n",
       "      <td>0</td>\n",
       "      <td>0</td>\n",
       "      <td>0</td>\n",
       "      <td>1</td>\n",
       "      <td>0</td>\n",
       "      <td>0</td>\n",
       "      <td>0</td>\n",
       "    </tr>\n",
       "    <tr>\n",
       "      <th>4</th>\n",
       "      <td>0</td>\n",
       "      <td>0</td>\n",
       "      <td>1</td>\n",
       "      <td>0</td>\n",
       "      <td>0</td>\n",
       "      <td>0</td>\n",
       "      <td>0</td>\n",
       "    </tr>\n",
       "    <tr>\n",
       "      <th>...</th>\n",
       "      <td>...</td>\n",
       "      <td>...</td>\n",
       "      <td>...</td>\n",
       "      <td>...</td>\n",
       "      <td>...</td>\n",
       "      <td>...</td>\n",
       "      <td>...</td>\n",
       "    </tr>\n",
       "    <tr>\n",
       "      <th>311</th>\n",
       "      <td>2049</td>\n",
       "      <td>1813</td>\n",
       "      <td>1537</td>\n",
       "      <td>1935</td>\n",
       "      <td>1744</td>\n",
       "      <td>1928</td>\n",
       "      <td>1983</td>\n",
       "    </tr>\n",
       "    <tr>\n",
       "      <th>312</th>\n",
       "      <td>1813</td>\n",
       "      <td>1537</td>\n",
       "      <td>1935</td>\n",
       "      <td>1744</td>\n",
       "      <td>1928</td>\n",
       "      <td>1983</td>\n",
       "      <td>1898</td>\n",
       "    </tr>\n",
       "    <tr>\n",
       "      <th>313</th>\n",
       "      <td>1537</td>\n",
       "      <td>1935</td>\n",
       "      <td>1744</td>\n",
       "      <td>1928</td>\n",
       "      <td>1983</td>\n",
       "      <td>1898</td>\n",
       "      <td>1951</td>\n",
       "    </tr>\n",
       "    <tr>\n",
       "      <th>314</th>\n",
       "      <td>1935</td>\n",
       "      <td>1744</td>\n",
       "      <td>1928</td>\n",
       "      <td>1983</td>\n",
       "      <td>1898</td>\n",
       "      <td>1951</td>\n",
       "      <td>1947</td>\n",
       "    </tr>\n",
       "    <tr>\n",
       "      <th>315</th>\n",
       "      <td>1744</td>\n",
       "      <td>1928</td>\n",
       "      <td>1983</td>\n",
       "      <td>1898</td>\n",
       "      <td>1951</td>\n",
       "      <td>1947</td>\n",
       "      <td>1774</td>\n",
       "    </tr>\n",
       "  </tbody>\n",
       "</table>\n",
       "<p>316 rows × 7 columns</p>\n",
       "</div>"
      ],
      "text/plain": [
       "     load0  load1  load2  load3  load4  load5  load6\n",
       "0        1      0      1      0      0      0      1\n",
       "1        0      1      0      0      0      1      0\n",
       "2        1      0      0      0      1      0      0\n",
       "3        0      0      0      1      0      0      0\n",
       "4        0      0      1      0      0      0      0\n",
       "..     ...    ...    ...    ...    ...    ...    ...\n",
       "311   2049   1813   1537   1935   1744   1928   1983\n",
       "312   1813   1537   1935   1744   1928   1983   1898\n",
       "313   1537   1935   1744   1928   1983   1898   1951\n",
       "314   1935   1744   1928   1983   1898   1951   1947\n",
       "315   1744   1928   1983   1898   1951   1947   1774\n",
       "\n",
       "[316 rows x 7 columns]"
      ]
     },
     "execution_count": 54,
     "metadata": {},
     "output_type": "execute_result"
    }
   ],
   "source": [
    "X"
   ]
  },
  {
   "cell_type": "code",
   "execution_count": 82,
   "metadata": {},
   "outputs": [],
   "source": [
    "from keras.models import Sequential\n",
    "from keras.layers import BatchNormalization, Dense\n",
    "from keras.layers import LSTM\n",
    "from keras.layers import Dropout\n",
    "from sklearn.metrics import mean_squared_error\n",
    "from keras.utils import to_categorical\n",
    "from math import sqrt\n",
    "from keras.layers import Bidirectional\n",
    "from keras.layers import  GlobalMaxPooling1D\n",
    "from keras.layers.convolutional import Conv1D\n",
    "from keras.layers.convolutional import MaxPooling1D\n",
    "from keras.layers import Flatten"
   ]
  },
  {
   "cell_type": "markdown",
   "metadata": {},
   "source": [
    "# LSTM"
   ]
  },
  {
   "cell_type": "code",
   "execution_count": 59,
   "metadata": {},
   "outputs": [
    {
     "name": "stdout",
     "output_type": "stream",
     "text": [
      "(300, 7, 1) (300, 1) (16, 7, 1) (16, 1)\n"
     ]
    }
   ],
   "source": [
    "X_train_nn = X_train.values.reshape((X_train.shape[0],   X_train.shape[1],1))\n",
    "X_test_nn  = X_test.values.reshape((X_test.shape[0],   X_test.shape[1],1))\n",
    "print(X_train_nn.shape, y_train.shape, X_test_nn.shape, y_test.shape)\n",
    " "
   ]
  },
  {
   "cell_type": "code",
   "execution_count": 60,
   "metadata": {},
   "outputs": [],
   "source": [
    "# # normalizing input features\n",
    "# scaler = MinMaxScaler(feature_range=(0, 1))\n",
    "# y_test1 = scaler.fit_transform(y_test)\n",
    "# y_test1 =pd.DataFrame(y_test1)\n",
    "\n",
    "y_test1=y_test"
   ]
  },
  {
   "cell_type": "code",
   "execution_count": 61,
   "metadata": {},
   "outputs": [],
   "source": [
    "scaler1 = MinMaxScaler(feature_range=(0, 1))\n",
    "y_train1 = scaler1.fit_transform(y_train)\n",
    "y_train1 =pd.DataFrame(y_train1)\n",
    "\n",
    "y_train1 =y_train1"
   ]
  },
  {
   "cell_type": "code",
   "execution_count": 62,
   "metadata": {},
   "outputs": [],
   "source": [
    "def evaluate_model_lstm(trainX, trainy, testX, testy, epochs=10, batch_size=1,verbose=1):\n",
    "\n",
    "    n_timesteps, n_features, n_outputs = trainX.shape[1], trainX.shape[2], trainy.shape[1]\n",
    "    model = Sequential()\n",
    "    model.add(LSTM(200, return_sequences=True,input_shape=(n_timesteps, n_features)))\n",
    "    model.add(LSTM(units=100, return_sequences=True))\n",
    "    model.add(LSTM(units=50))\n",
    "    model.add(Dense(n_outputs ))\n",
    "    model.compile(loss='mae', optimizer='adam' )\n",
    "    # fit network\n",
    "    model_history = model.fit(trainX, trainy, epochs=epochs,  batch_size=batch_size, verbose=verbose,  shuffle=False)\n",
    " \n",
    "    return model,model_history"
   ]
  },
  {
   "cell_type": "code",
   "execution_count": 63,
   "metadata": {},
   "outputs": [
    {
     "name": "stdout",
     "output_type": "stream",
     "text": [
      "Epoch 1/10\n",
      "300/300 [==============================] - 2s 8ms/step - loss: 0.0449\n",
      "Epoch 2/10\n",
      "300/300 [==============================] - 2s 6ms/step - loss: 0.0546\n",
      "Epoch 3/10\n",
      "300/300 [==============================] - 2s 6ms/step - loss: 0.0624\n",
      "Epoch 4/10\n",
      "300/300 [==============================] - 2s 6ms/step - loss: 0.0541\n",
      "Epoch 5/10\n",
      "300/300 [==============================] - 2s 7ms/step - loss: 0.0664\n",
      "Epoch 6/10\n",
      "300/300 [==============================] - 2s 6ms/step - loss: 0.0635\n",
      "Epoch 7/10\n",
      "300/300 [==============================] - 2s 7ms/step - loss: 0.0876\n",
      "Epoch 8/10\n",
      "300/300 [==============================] - 2s 7ms/step - loss: 0.1268\n",
      "Epoch 9/10\n",
      "300/300 [==============================] - 2s 7ms/step - loss: 0.0686\n",
      "Epoch 10/10\n",
      "300/300 [==============================] - 2s 7ms/step - loss: 0.0554\n",
      "Elapsed time: 107.6875 36.171875\n",
      "Elapsed time during the whole program in seconds: 71.515625\n"
     ]
    }
   ],
   "source": [
    "t1_start = process_time()\n",
    "model_lstm, model_history  = evaluate_model_lstm(X_train_nn,y_train1,X_test_nn,y_test1)\n",
    "\n",
    "t1_stop = process_time() \n",
    "model_lstm_process_time=  t1_stop-t1_start\n",
    "print(\"Elapsed time:\", t1_stop, t1_start)  \n",
    "print(\"Elapsed time during the whole program in seconds:\", \n",
    "                                         model_lstm_process_time) "
   ]
  },
  {
   "cell_type": "code",
   "execution_count": 64,
   "metadata": {},
   "outputs": [],
   "source": [
    "# pyplot.plot(model_history.history['loss'], label='LSTM train', color='red')\n",
    "# pyplot.plot(model_history.history['val_loss'], label='LSTM test', color= 'green')\n",
    "\n",
    "# pyplot.legend()\n",
    "# pyplot.show()"
   ]
  },
  {
   "cell_type": "code",
   "execution_count": 65,
   "metadata": {},
   "outputs": [],
   "source": [
    "yhat_test = model_lstm.predict(X_test_nn)\n"
   ]
  },
  {
   "cell_type": "code",
   "execution_count": 66,
   "metadata": {},
   "outputs": [],
   "source": [
    "yhat_test11 = yhat_test"
   ]
  },
  {
   "cell_type": "code",
   "execution_count": 67,
   "metadata": {},
   "outputs": [
    {
     "name": "stdout",
     "output_type": "stream",
     "text": [
      "MSE: 3360550.9033069685\n",
      "RMSE: 1833.1805430199636\n"
     ]
    }
   ],
   "source": [
    "lstm_MSE  = mean_squared_error(y_test, yhat_test11, squared=True)\n",
    "lstm_RMSE  = mean_squared_error(y_test, yhat_test11, squared=False)\n",
    "\n",
    "print(\"MSE:\", lstm_MSE)\n",
    "print(\"RMSE:\", lstm_RMSE)"
   ]
  },
  {
   "cell_type": "code",
   "execution_count": 68,
   "metadata": {},
   "outputs": [
    {
     "data": {
      "image/png": "[encoded data removed]",
      "text/plain": [
       "<Figure size 432x288 with 1 Axes>"
      ]
     },
     "metadata": {
      "needs_background": "light"
     },
     "output_type": "display_data"
    }
   ],
   "source": [
    "pyplot.figure(figsize=(6,4))\n",
    "aa=[x for x in range(15)]\n",
    "pyplot.plot(aa, y_test[:15], marker='.', label=\"actual\")\n",
    "pyplot.plot(aa, yhat_test11[:15], 'r', label=\"prediction\")\n",
    "pyplot.ylabel('Cases', size=15)\n",
    "pyplot.xlabel('Time step', size=15)\n",
    "pyplot.legend(fontsize=15)\n",
    "pyplot.show()"
   ]
  },
  {
   "cell_type": "markdown",
   "metadata": {},
   "source": [
    "# Conv1D_LSTM"
   ]
  },
  {
   "cell_type": "code",
   "execution_count": 72,
   "metadata": {},
   "outputs": [],
   "source": [
    "def evaluate_model_Conv1D_LSTM(trainX, trainy, testX, testy,  epochs=10, batch_size=1,verbose=1):\n",
    "    n_timesteps, n_features, n_outputs = trainX.shape[1], trainX.shape[2], trainy.shape[1]\n",
    "    model = Sequential()\n",
    "    model.add(LSTM(200, return_sequences=True, input_shape=(n_timesteps,n_features)))\n",
    "    model.add(Conv1D(100, kernel_size=3, activation = 'relu'))\n",
    "    model.add(GlobalMaxPooling1D())\n",
    "    model.add(Dense(50))\n",
    "    model.add(Dense(n_outputs ))\n",
    "    model.compile(loss='mae', optimizer='adam' )\n",
    " \n",
    "    # fit network\n",
    "    model.fit(trainX, trainy, epochs=epochs, batch_size=batch_size, verbose=verbose)\n",
    "\n",
    "     \n",
    "    return model"
   ]
  },
  {
   "cell_type": "code",
   "execution_count": 73,
   "metadata": {},
   "outputs": [
    {
     "name": "stdout",
     "output_type": "stream",
     "text": [
      "Epoch 1/10\n",
      "300/300 [==============================] - 1s 4ms/step - loss: 0.1410\n",
      "Epoch 2/10\n",
      "300/300 [==============================] - 1s 3ms/step - loss: 0.0923\n",
      "Epoch 3/10\n",
      "300/300 [==============================] - 1s 3ms/step - loss: 0.0633\n",
      "Epoch 4/10\n",
      "300/300 [==============================] - 1s 3ms/step - loss: 0.0605\n",
      "Epoch 5/10\n",
      "300/300 [==============================] - 1s 3ms/step - loss: 0.0590\n",
      "Epoch 6/10\n",
      "300/300 [==============================] - 1s 3ms/step - loss: 0.0538\n",
      "Epoch 7/10\n",
      "300/300 [==============================] - 1s 3ms/step - loss: 0.0524\n",
      "Epoch 8/10\n",
      "300/300 [==============================] - 1s 3ms/step - loss: 0.0521\n",
      "Epoch 9/10\n",
      "300/300 [==============================] - 1s 3ms/step - loss: 0.0469\n",
      "Epoch 10/10\n",
      "300/300 [==============================] - 1s 4ms/step - loss: 0.0521\n",
      "Elapsed time: 142.125 109.03125\n",
      "Elapsed time during the whole program in seconds: 33.09375\n"
     ]
    }
   ],
   "source": [
    "t1_start = process_time()\n",
    "Conv1D_LSTM_model  = evaluate_model_Conv1D_LSTM(X_train_nn,y_train1,X_test_nn,y_test1)\n",
    "t1_stop = process_time() \n",
    "Conv1D_LSTM_process_time=  t1_stop-t1_start\n",
    "print(\"Elapsed time:\", t1_stop, t1_start)  \n",
    "print(\"Elapsed time during the whole program in seconds:\", \n",
    "                                       Conv1D_LSTM_process_time) "
   ]
  },
  {
   "cell_type": "code",
   "execution_count": 74,
   "metadata": {},
   "outputs": [],
   "source": [
    "yhat_test2 = Conv1D_LSTM_model.predict(X_test_nn)"
   ]
  },
  {
   "cell_type": "code",
   "execution_count": 75,
   "metadata": {},
   "outputs": [],
   "source": [
    "yhat_test3 = yhat_test2"
   ]
  },
  {
   "cell_type": "code",
   "execution_count": 76,
   "metadata": {},
   "outputs": [
    {
     "name": "stdout",
     "output_type": "stream",
     "text": [
      "MSE: 3360322.9706192724\n",
      "RMSE: 1833.1183733243395\n"
     ]
    }
   ],
   "source": [
    "Conv1D_LSTM_MSE  = mean_squared_error(y_test, yhat_test3, squared=True)\n",
    "Conv1D_LSTM_RMSE  = mean_squared_error(y_test, yhat_test3, squared=False)\n",
    "\n",
    "print(\"MSE:\", Conv1D_LSTM_MSE)\n",
    "print(\"RMSE:\", Conv1D_LSTM_RMSE)"
   ]
  },
  {
   "cell_type": "code",
   "execution_count": 77,
   "metadata": {},
   "outputs": [
    {
     "data": {
      "image/png": "[encoded data removed]",
      "text/plain": [
       "<Figure size 432x288 with 1 Axes>"
      ]
     },
     "metadata": {
      "needs_background": "light"
     },
     "output_type": "display_data"
    }
   ],
   "source": [
    "pyplot.figure(figsize=(6,4))\n",
    "aa=[x for x in range(15)]\n",
    "pyplot.plot(aa, y_test[:15], marker='.', label=\"actual cases\")\n",
    "pyplot.plot(aa, yhat_test3[:15], 'r', label=\"prediction cases\")\n",
    "pyplot.ylabel('Cases', size=15)\n",
    "pyplot.xlabel('Time step', size=15)\n",
    "pyplot.legend(fontsize=15)\n",
    "pyplot.show()"
   ]
  },
  {
   "cell_type": "markdown",
   "metadata": {},
   "source": [
    "# Conv1D"
   ]
  },
  {
   "cell_type": "code",
   "execution_count": 83,
   "metadata": {},
   "outputs": [],
   "source": [
    "\n",
    "# fit and evaluate a model\n",
    "def evaluate_model_Conv1D(trainX, trainy, testX, testy,  epochs=10, batch_size=1,verbose=1):\n",
    " \n",
    "    n_timesteps, n_features, n_outputs = trainX.shape[1], trainX.shape[2], trainy.shape[1]\n",
    "    model = Sequential()\n",
    "    model.add(Conv1D(filters=200, kernel_size=3, activation='relu', input_shape=(n_timesteps,n_features)))\n",
    "  \n",
    "    model.add(MaxPooling1D(pool_size=2))\n",
    "    model.add(Flatten())\n",
    "\n",
    "    model.add(Dense(n_outputs ))\n",
    "    model.compile(loss='mae', optimizer='adam' )\n",
    "#     model.summary()\n",
    "    # fit network\n",
    "    model.fit(trainX, trainy, epochs=epochs, batch_size=batch_size, verbose=verbose)\n",
    "\n",
    "     \n",
    "    return model"
   ]
  },
  {
   "cell_type": "code",
   "execution_count": 84,
   "metadata": {},
   "outputs": [
    {
     "name": "stdout",
     "output_type": "stream",
     "text": [
      "Epoch 1/10\n",
      "300/300 [==============================] - 0s 834us/step - loss: 6.7757\n",
      "Epoch 2/10\n",
      "300/300 [==============================] - 0s 575us/step - loss: 2.4355\n",
      "Epoch 3/10\n",
      "300/300 [==============================] - 0s 532us/step - loss: 2.1334\n",
      "Epoch 4/10\n",
      "300/300 [==============================] - 0s 572us/step - loss: 2.1084\n",
      "Epoch 5/10\n",
      "300/300 [==============================] - 0s 565us/step - loss: 2.6772\n",
      "Epoch 6/10\n",
      "300/300 [==============================] - 0s 535us/step - loss: 1.9141\n",
      "Epoch 7/10\n",
      "300/300 [==============================] - 0s 559us/step - loss: 1.7433\n",
      "Epoch 8/10\n",
      "300/300 [==============================] - 0s 554us/step - loss: 1.8763\n",
      "Epoch 9/10\n",
      "300/300 [==============================] - 0s 555us/step - loss: 1.5161\n",
      "Epoch 10/10\n",
      "300/300 [==============================] - 0s 611us/step - loss: 1.4920\n"
     ]
    }
   ],
   "source": [
    "Conv1D_model  = evaluate_model_Conv1D(X_train_nn,y_train1,X_test_nn,y_test1)"
   ]
  },
  {
   "cell_type": "code",
   "execution_count": 85,
   "metadata": {},
   "outputs": [
    {
     "name": "stdout",
     "output_type": "stream",
     "text": [
      "Elapsed time: 145.75 145.71875\n",
      "Elapsed time during the whole program in seconds: 33.09375\n"
     ]
    }
   ],
   "source": [
    "t1_start = process_time()\n",
    "yhat_test5 = Conv1D_model.predict(X_test_nn)\n",
    "t1_stop = process_time() \n",
    "Conv1D_process_time=  t1_stop-t1_start\n",
    "print(\"Elapsed time:\", t1_stop, t1_start)  \n",
    "print(\"Elapsed time during the whole program in seconds:\", \n",
    "                                       Conv1D_LSTM_process_time) "
   ]
  },
  {
   "cell_type": "code",
   "execution_count": 86,
   "metadata": {},
   "outputs": [],
   "source": [
    "yhat_test56 = yhat_test5"
   ]
  },
  {
   "cell_type": "code",
   "execution_count": 87,
   "metadata": {},
   "outputs": [
    {
     "name": "stdout",
     "output_type": "stream",
     "text": [
      "MSE: 3323720.093994066\n",
      "RMSE: 1823.1072634362647\n"
     ]
    }
   ],
   "source": [
    "Conv1D_MSE  = mean_squared_error(y_test, yhat_test56, squared=True)\n",
    "Conv1D_RMSE  = mean_squared_error(y_test, yhat_test56, squared=False)\n",
    "\n",
    "print(\"MSE:\", Conv1D_MSE)\n",
    "print(\"RMSE:\", Conv1D_RMSE)"
   ]
  },
  {
   "cell_type": "markdown",
   "metadata": {},
   "source": [
    " # Result Comparing"
   ]
  },
  {
   "cell_type": "code",
   "execution_count": 88,
   "metadata": {},
   "outputs": [
    {
     "data": {
      "image/png": "[encoded data removed]",
      "text/plain": [
       "<Figure size 432x288 with 1 Axes>"
      ]
     },
     "metadata": {
      "needs_background": "light"
     },
     "output_type": "display_data"
    }
   ],
   "source": [
    "import matplotlib.pyplot as plt;  import matplotlib as mpl\n",
    "import numpy as np\n",
    "import matplotlib.pyplot as plt\n",
    "\n",
    "objects = ('SVM', 'Logistic Regression', 'Gradient Boosting Regressor', 'Random Forest Regressor', 'LSTM', 'Conv1D', 'Conv1D LSTM' )\n",
    "y_pos = np.arange(len(objects))\n",
    "performance = [SVM_MSE, LR_MSE, gbr_MSE, regr_MSE, lstm_MSE, Conv1D_MSE, Conv1D_LSTM_MSE]\n",
    "fig = plt.figure(figsize=(6, 4))\n",
    "plt.bar(y_pos, performance, align='center', alpha=0.5)\n",
    "plt.xticks(y_pos, objects)\n",
    "plt.ylabel('MSE')\n",
    " \n",
    "plt.xticks(rotation=45, ha='right')\n",
    "plt.show()\n",
    "fig.savefig('images/MSE.pdf')"
   ]
  },
  {
   "cell_type": "code",
   "execution_count": 89,
   "metadata": {},
   "outputs": [
    {
     "data": {
      "image/png": "[encoded data removed]",
      "text/plain": [
       "<Figure size 432x288 with 1 Axes>"
      ]
     },
     "metadata": {
      "needs_background": "light"
     },
     "output_type": "display_data"
    }
   ],
   "source": [
    "import matplotlib.pyplot as plt;  import matplotlib as mpl\n",
    "import numpy as np\n",
    "import matplotlib.pyplot as plt\n",
    "\n",
    "objects = ('SVM', 'Logistic Regression', 'Gradient Boosting Regressor', 'Random Forest Regressor', 'LSTM', 'Conv1D', 'Conv1D LSTM' )\n",
    "y_pos = np.arange(len(objects))\n",
    "performance = [SVM_process_time, LR_process_time, gbr_process_time, regr_process_time, model_lstm_process_time, Conv1D_process_time, Conv1D_LSTM_process_time ]\n",
    "fig = plt.figure(figsize=(6, 4))\n",
    "plt.bar(y_pos, performance, align='center', alpha=0.5)\n",
    "plt.xticks(y_pos, objects)\n",
    "plt.ylabel('Process Time (s)')\n",
    " \n",
    "plt.xticks(rotation=45, ha='right')\n",
    "plt.show()\n",
    "fig.savefig('images/RMSE.pdf')"
   ]
  },
  {
   "cell_type": "code",
   "execution_count": null,
   "metadata": {},
   "outputs": [],
   "source": []
  },
  {
   "cell_type": "code",
   "execution_count": 90,
   "metadata": {},
   "outputs": [
    {
     "data": {
      "image/png": "[encoded data removed]",
      "text/plain": [
       "<Figure size 432x288 with 1 Axes>"
      ]
     },
     "metadata": {
      "needs_background": "light"
     },
     "output_type": "display_data"
    }
   ],
   "source": [
    "import matplotlib.pyplot as plt;  import matplotlib as mpl\n",
    "import numpy as np\n",
    "import matplotlib.pyplot as plt\n",
    "\n",
    "objects = ('SVM', 'Logistic Regression', 'Gradient Boosting Regressor', 'Random Forest Regressor', 'LSTM', 'Conv1D', 'Conv1D LSTM' )\n",
    "y_pos = np.arange(len(objects))\n",
    "performance = [SVM_RMSE, LR_RMSE, gbr_RMSE, regr_RMSE, lstm_RMSE, Conv1D_RMSE, Conv1D_LSTM_RMSE ]\n",
    "fig = plt.figure(figsize=(6, 4))\n",
    "plt.bar(y_pos, performance, align='center', alpha=0.5)\n",
    "plt.xticks(y_pos, objects)\n",
    "plt.ylabel('RMSE')\n",
    " \n",
    "plt.xticks(rotation=45, ha='right')\n",
    "plt.show()\n",
    "fig.savefig('images/RMSE.pdf')"
   ]
  },
  {
   "cell_type": "code",
   "execution_count": null,
   "metadata": {},
   "outputs": [],
   "source": []
  },
  {
   "cell_type": "code",
   "execution_count": null,
   "metadata": {},
   "outputs": [],
   "source": []
  }
 ],
 "metadata": {
  "kernelspec": {
   "display_name": "Python 3",
   "language": "python",
   "name": "python3"
  },
  "language_info": {
   "codemirror_mode": {
    "name": "ipython",
    "version": 3
   },
   "file_extension": ".py",
   "mimetype": "text/x-python",
   "name": "python",
   "nbconvert_exporter": "python",
   "pygments_lexer": "ipython3",
   "version": "3.7.7"
  }
 },
 "nbformat": 4,
 "nbformat_minor": 4
}
